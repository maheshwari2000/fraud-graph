{
 "cells": [
  {
   "cell_type": "code",
   "execution_count": 1,
   "id": "cdb3491a",
   "metadata": {},
   "outputs": [
    {
     "data": {
      "text/plain": [
       "True"
      ]
     },
     "execution_count": 1,
     "metadata": {},
     "output_type": "execute_result"
    }
   ],
   "source": [
    "import pandas as pd\n",
    "\n",
    "import os\n",
    "from dotenv import load_dotenv\n",
    "load_dotenv()"
   ]
  },
  {
   "cell_type": "code",
   "execution_count": 2,
   "id": "edc90a32",
   "metadata": {},
   "outputs": [
    {
     "data": {
      "text/plain": [
       "('neo4j', 'password')"
      ]
     },
     "execution_count": 2,
     "metadata": {},
     "output_type": "execute_result"
    }
   ],
   "source": [
    "NEO4J_USERNAME = os.getenv('NEO4J_USERNAME')\n",
    "NEO4J_PASS = os.getenv('NEO4J_PASS')\n",
    "NEO4J_USERNAME, NEO4J_PASS"
   ]
  },
  {
   "cell_type": "code",
   "execution_count": 16,
   "id": "576457db",
   "metadata": {},
   "outputs": [],
   "source": [
    "from neo4j import GraphDatabase\n",
    "\n",
    "# URI examples: \"neo4j://localhost\", \"neo4j+s://xxx.databases.neo4j.io\"\n",
    "URI = \"bolt://localhost:7687\"\n",
    "AUTH = (NEO4J_USERNAME, NEO4J_PASS)\n",
    "\n",
    "driver = GraphDatabase.driver(URI, auth=AUTH)\n",
    "\n",
    "def get_session(database_name=\"neo4j\"):\n",
    "    # Create a session and specify the database\n",
    "    return driver.session(database=database_name)"
   ]
  },
  {
   "cell_type": "code",
   "execution_count": 17,
   "id": "8a9a53f1",
   "metadata": {},
   "outputs": [
    {
     "name": "stdout",
     "output_type": "stream",
     "text": [
      "Connection successful!\n"
     ]
    }
   ],
   "source": [
    "with get_session() as session:\n",
    "    result = session.run(\"RETURN 'Connection successful!'\")\n",
    "    print(result.single()[0])  # Should print \"Connection successful!\""
   ]
  },
  {
   "cell_type": "code",
   "execution_count": 4,
   "id": "d3293236",
   "metadata": {},
   "outputs": [
    {
     "data": {
      "text/html": [
       "<div>\n",
       "<style scoped>\n",
       "    .dataframe tbody tr th:only-of-type {\n",
       "        vertical-align: middle;\n",
       "    }\n",
       "\n",
       "    .dataframe tbody tr th {\n",
       "        vertical-align: top;\n",
       "    }\n",
       "\n",
       "    .dataframe thead th {\n",
       "        text-align: right;\n",
       "    }\n",
       "</style>\n",
       "<table border=\"1\" class=\"dataframe\">\n",
       "  <thead>\n",
       "    <tr style=\"text-align: right;\">\n",
       "      <th></th>\n",
       "      <th>user</th>\n",
       "      <th>uniqueidentifier1</th>\n",
       "      <th>uniqueidentifier2</th>\n",
       "      <th>uniqueidentifier3</th>\n",
       "      <th>Fraud</th>\n",
       "    </tr>\n",
       "  </thead>\n",
       "  <tbody>\n",
       "    <tr>\n",
       "      <th>0</th>\n",
       "      <td>User_1</td>\n",
       "      <td>4ccc2dc9-5425-4825-9141-4c27b3d5fadf</td>\n",
       "      <td>V9481</td>\n",
       "      <td>156537</td>\n",
       "      <td>0</td>\n",
       "    </tr>\n",
       "    <tr>\n",
       "      <th>1</th>\n",
       "      <td>User_2</td>\n",
       "      <td>1c4f19ad-e7bf-4942-9e6f-cd35f0f17e50</td>\n",
       "      <td>N2400</td>\n",
       "      <td>118492</td>\n",
       "      <td>1</td>\n",
       "    </tr>\n",
       "    <tr>\n",
       "      <th>2</th>\n",
       "      <td>User_3</td>\n",
       "      <td>d1f0223c-38d0-4c4a-8aa8-ff604b694cb9</td>\n",
       "      <td>P1073</td>\n",
       "      <td>133863</td>\n",
       "      <td>0</td>\n",
       "    </tr>\n",
       "    <tr>\n",
       "      <th>3</th>\n",
       "      <td>User_4</td>\n",
       "      <td>fcb8c3fa-9874-4cbf-b00c-cd7c4f935dc4</td>\n",
       "      <td>Y8631</td>\n",
       "      <td>132353</td>\n",
       "      <td>0</td>\n",
       "    </tr>\n",
       "    <tr>\n",
       "      <th>4</th>\n",
       "      <td>User_5</td>\n",
       "      <td>fdbe86d5-0ff7-4b70-a324-6dba7d189724</td>\n",
       "      <td>I9614</td>\n",
       "      <td>148025</td>\n",
       "      <td>1</td>\n",
       "    </tr>\n",
       "  </tbody>\n",
       "</table>\n",
       "</div>"
      ],
      "text/plain": [
       "     user                     uniqueidentifier1 uniqueidentifier2  \\\n",
       "0  User_1  4ccc2dc9-5425-4825-9141-4c27b3d5fadf             V9481   \n",
       "1  User_2  1c4f19ad-e7bf-4942-9e6f-cd35f0f17e50             N2400   \n",
       "2  User_3  d1f0223c-38d0-4c4a-8aa8-ff604b694cb9             P1073   \n",
       "3  User_4  fcb8c3fa-9874-4cbf-b00c-cd7c4f935dc4             Y8631   \n",
       "4  User_5  fdbe86d5-0ff7-4b70-a324-6dba7d189724             I9614   \n",
       "\n",
       "   uniqueidentifier3  Fraud  \n",
       "0             156537      0  \n",
       "1             118492      1  \n",
       "2             133863      0  \n",
       "3             132353      0  \n",
       "4             148025      1  "
      ]
     },
     "execution_count": 4,
     "metadata": {},
     "output_type": "execute_result"
    }
   ],
   "source": [
    "df = pd.read_csv(\"fraud_data_10k.csv\")\n",
    "df.head()"
   ]
  },
  {
   "cell_type": "code",
   "execution_count": 5,
   "id": "f3162e76",
   "metadata": {},
   "outputs": [
    {
     "data": {
      "text/html": [
       "<div>\n",
       "<style scoped>\n",
       "    .dataframe tbody tr th:only-of-type {\n",
       "        vertical-align: middle;\n",
       "    }\n",
       "\n",
       "    .dataframe tbody tr th {\n",
       "        vertical-align: top;\n",
       "    }\n",
       "\n",
       "    .dataframe thead th {\n",
       "        text-align: right;\n",
       "    }\n",
       "</style>\n",
       "<table border=\"1\" class=\"dataframe\">\n",
       "  <thead>\n",
       "    <tr style=\"text-align: right;\">\n",
       "      <th></th>\n",
       "      <th>user</th>\n",
       "      <th>uniqueidentifier1</th>\n",
       "      <th>uniqueidentifier2</th>\n",
       "      <th>uniqueidentifier3</th>\n",
       "      <th>Fraud</th>\n",
       "    </tr>\n",
       "  </thead>\n",
       "  <tbody>\n",
       "    <tr>\n",
       "      <th>0</th>\n",
       "      <td>User_1</td>\n",
       "      <td>4ccc2dc9-5425-4825-9141-4c27b3d5fadf</td>\n",
       "      <td>V9481</td>\n",
       "      <td>156537</td>\n",
       "      <td>0</td>\n",
       "    </tr>\n",
       "  </tbody>\n",
       "</table>\n",
       "</div>"
      ],
      "text/plain": [
       "     user                     uniqueidentifier1 uniqueidentifier2  \\\n",
       "0  User_1  4ccc2dc9-5425-4825-9141-4c27b3d5fadf             V9481   \n",
       "\n",
       "   uniqueidentifier3  Fraud  \n",
       "0             156537      0  "
      ]
     },
     "execution_count": 5,
     "metadata": {},
     "output_type": "execute_result"
    }
   ],
   "source": [
    "df[df['uniqueidentifier1']==\"4ccc2dc9-5425-4825-9141-4c27b3d5fadf\"]"
   ]
  },
  {
   "cell_type": "code",
   "execution_count": null,
   "id": "01d069dd",
   "metadata": {},
   "outputs": [],
   "source": []
  },
  {
   "cell_type": "code",
   "execution_count": 7,
   "id": "c47ce174",
   "metadata": {},
   "outputs": [],
   "source": [
    "def batch_create_nodes(df, label, column, batch_size=10000):\n",
    "    with get_session() as session:\n",
    "        for i in range(0, len(df), batch_size):\n",
    "            batch = df.iloc[i:i+batch_size]\n",
    "            records = batch[[column]].drop_duplicates().rename(columns={column: \"id\"}).dropna()\n",
    "            \n",
    "            def create_nodes(tx, rows):\n",
    "                tx.run(f\"\"\"\n",
    "                    UNWIND $rows AS row\n",
    "                    MERGE (n:{label} {{id: row.id}})\n",
    "                \"\"\", parameters={\"rows\": rows})\n",
    "\n",
    "            session.execute_write(create_nodes, records.to_dict(\"records\"))\n",
    "\n",
    "\n",
    "batch_create_nodes(df, \"User\", \"user\")\n",
    "batch_create_nodes(df, \"UID1\", \"uniqueidentifier1\")\n",
    "batch_create_nodes(df, \"UID2\", \"uniqueidentifier2\")\n",
    "batch_create_nodes(df, \"UID3\", \"uniqueidentifier3\")"
   ]
  },
  {
   "cell_type": "code",
   "execution_count": 8,
   "id": "1c3a459f",
   "metadata": {},
   "outputs": [
    {
     "name": "stdout",
     "output_type": "stream",
     "text": [
      "[{'count(n)': 10000}]\n"
     ]
    }
   ],
   "source": [
    "with get_session() as session:\n",
    "    graph_response = session.run(\"\"\"MATCH (n:User) RETURN count(n);\"\"\")\n",
    "    print([record.data() for record in graph_response])"
   ]
  },
  {
   "cell_type": "code",
   "execution_count": 9,
   "id": "0c5ddcb3",
   "metadata": {},
   "outputs": [],
   "source": [
    "# with get_session() as session:\n",
    "#     graph_response = session.run(\"\"\"MATCH (n) DETACH DELETE n\"\"\")\n",
    "#     print([record.data() for record in graph_response])"
   ]
  },
  {
   "cell_type": "code",
   "execution_count": 10,
   "id": "19aa352c",
   "metadata": {},
   "outputs": [],
   "source": [
    "def batch_create_relationships(df, batch_size=10000):\n",
    "    with get_session() as session:\n",
    "        for i in range(0, len(df), batch_size):\n",
    "            batch = df.iloc[i:i+batch_size].dropna(subset=[\"user\", \"uniqueidentifier1\", \"uniqueidentifier2\", \"uniqueidentifier3\"])\n",
    "\n",
    "            rows = batch[[\"user\", \"uniqueidentifier1\", \"uniqueidentifier2\", \"uniqueidentifier3\"]].to_dict(\"records\")\n",
    "\n",
    "            def create_relationships(tx, rows):\n",
    "                tx.run(\"\"\"\n",
    "                    UNWIND $rows AS row\n",
    "                    MATCH (u:User {id: row.user})\n",
    "                    MATCH (uid1:UID1 {id: row.uniqueidentifier1})\n",
    "                    MATCH (uid2:UID2 {id: row.uniqueidentifier2})\n",
    "                    MATCH (uid3:UID3 {id: row.uniqueidentifier3})\n",
    "                    MERGE (u)-[:HAS_UID1]->(uid1)\n",
    "                    MERGE (u)-[:HAS_UID2]->(uid2)\n",
    "                    MERGE (u)-[:HAS_UID3]->(uid3)\n",
    "                \"\"\", parameters={\"rows\": rows})\n",
    "\n",
    "            session.execute_write(create_relationships, rows)\n",
    "\n",
    "batch_create_relationships(df)"
   ]
  },
  {
   "cell_type": "code",
   "execution_count": 11,
   "id": "487c15cf",
   "metadata": {},
   "outputs": [
    {
     "name": "stdout",
     "output_type": "stream",
     "text": [
      "[{'u.id': 'User_1', 'type(r)': 'HAS_UID1', 'n.id': '4ccc2dc9-5425-4825-9141-4c27b3d5fadf'}, {'u.id': 'User_1', 'type(r)': 'HAS_UID2', 'n.id': 'V9481'}, {'u.id': 'User_1', 'type(r)': 'HAS_UID3', 'n.id': 156537}, {'u.id': 'User_2', 'type(r)': 'HAS_UID1', 'n.id': '1c4f19ad-e7bf-4942-9e6f-cd35f0f17e50'}, {'u.id': 'User_2', 'type(r)': 'HAS_UID2', 'n.id': 'N2400'}, {'u.id': 'User_2', 'type(r)': 'HAS_UID3', 'n.id': 118492}, {'u.id': 'User_3', 'type(r)': 'HAS_UID1', 'n.id': 'd1f0223c-38d0-4c4a-8aa8-ff604b694cb9'}, {'u.id': 'User_3', 'type(r)': 'HAS_UID2', 'n.id': 'P1073'}, {'u.id': 'User_3', 'type(r)': 'HAS_UID3', 'n.id': 133863}, {'u.id': 'User_4', 'type(r)': 'HAS_UID1', 'n.id': 'fcb8c3fa-9874-4cbf-b00c-cd7c4f935dc4'}, {'u.id': 'User_4', 'type(r)': 'HAS_UID2', 'n.id': 'Y8631'}, {'u.id': 'User_4', 'type(r)': 'HAS_UID3', 'n.id': 132353}, {'u.id': 'User_5', 'type(r)': 'HAS_UID1', 'n.id': 'fdbe86d5-0ff7-4b70-a324-6dba7d189724'}, {'u.id': 'User_5', 'type(r)': 'HAS_UID2', 'n.id': 'I9614'}, {'u.id': 'User_5', 'type(r)': 'HAS_UID3', 'n.id': 148025}, {'u.id': 'User_6', 'type(r)': 'HAS_UID1', 'n.id': '96d47704-6574-4d79-9e78-035b25749c2b'}, {'u.id': 'User_6', 'type(r)': 'HAS_UID2', 'n.id': 'Z6112'}, {'u.id': 'User_6', 'type(r)': 'HAS_UID3', 'n.id': 166791}, {'u.id': 'User_7', 'type(r)': 'HAS_UID1', 'n.id': '4f05c59a-7bca-4012-ab1e-94d4992209ec'}, {'u.id': 'User_7', 'type(r)': 'HAS_UID2', 'n.id': 'G1634'}]\n"
     ]
    }
   ],
   "source": [
    "with get_session() as session:\n",
    "    graph_response = session.run(\"\"\"MATCH (u:User)-[r]->(n) RETURN u.id, type(r), n.id LIMIT 20;\"\"\")\n",
    "    print([record.data() for record in graph_response])"
   ]
  },
  {
   "cell_type": "code",
   "execution_count": 12,
   "id": "bc169a6a",
   "metadata": {},
   "outputs": [],
   "source": [
    "def label_fraudulent_users(df, batch_size=10000):\n",
    "    with get_session() as session:\n",
    "        fraud_df = df[df[\"Fraud\"] == 1]\n",
    "\n",
    "        for i in range(0, len(fraud_df), batch_size):\n",
    "            batch = fraud_df.iloc[i:i+batch_size]\n",
    "            users = batch[\"user\"].drop_duplicates().to_frame(name=\"id\").dropna()\n",
    "\n",
    "            def set_fraud_label(tx, rows):\n",
    "                tx.run(\"\"\"\n",
    "                    UNWIND $rows AS row\n",
    "                    MATCH (u:User {id: row.id})\n",
    "                    SET u:Fraud\n",
    "                \"\"\", parameters={\"rows\": rows})\n",
    "\n",
    "            session.execute_write(set_fraud_label, users.to_dict(\"records\"))\n",
    "\n",
    "label_fraudulent_users(df)"
   ]
  },
  {
   "cell_type": "code",
   "execution_count": 13,
   "id": "bdb5f550",
   "metadata": {},
   "outputs": [
    {
     "name": "stdout",
     "output_type": "stream",
     "text": [
      "[{'u.id': 'User_2'}, {'u.id': 'User_5'}, {'u.id': 'User_16'}, {'u.id': 'User_23'}, {'u.id': 'User_40'}, {'u.id': 'User_44'}, {'u.id': 'User_54'}, {'u.id': 'User_68'}, {'u.id': 'User_73'}, {'u.id': 'User_97'}]\n"
     ]
    }
   ],
   "source": [
    "with get_session() as session:\n",
    "    graph_response = session.run(\"\"\"MATCH (u:User:Fraud) RETURN u.id LIMIT 10;\"\"\")\n",
    "    print([record.data() for record in graph_response])"
   ]
  },
  {
   "cell_type": "code",
   "execution_count": null,
   "id": "28933b99",
   "metadata": {},
   "outputs": [],
   "source": []
  },
  {
   "cell_type": "code",
   "execution_count": 57,
   "id": "81e42f88",
   "metadata": {},
   "outputs": [
    {
     "name": "stdout",
     "output_type": "stream",
     "text": [
      "\n",
      "    MATCH path=(:User {id: 'User_23'})-[:HAS_UID2|HAS_UID1*..2]-(connected:User)\n",
      "    WHERE ALL(r IN relationships(path) WHERE type(r) in ['HAS_UID2', 'HAS_UID1'])\n",
      "    AND length(path) > 0\n",
      "    AND connected.id <> \"User_23\"\n",
      "    RETURN connected, length(path) AS connectionDistance\n",
      "    ORDER BY connectionDistance\n",
      "    \n"
     ]
    }
   ],
   "source": [
    "user_id = \"User_23\"\n",
    "edges = ['HAS_UID2','HAS_UID1']\n",
    "level = 2\n",
    "\n",
    "\n",
    "query = f\"\"\"\n",
    "    MATCH path=(:User {{id: '{user_id}'}})-[:{\"|\".join(edges)}*..{level}]-(connected:User)\n",
    "    WHERE ALL(r IN relationships(path) WHERE type(r) in {edges})\n",
    "    AND length(path) > 0\n",
    "    AND connected.id <> \"User_23\"\n",
    "    RETURN connected, length(path) AS connectionDistance\n",
    "    ORDER BY connectionDistance\n",
    "    \"\"\"\n",
    "print(query)\n",
    "\n",
    "with get_session() as session:\n",
    "    result = session.run(query, parameters={\"user_id\": user_id, \"edges\":edges, \"level\":level})\n",
    "    result = result.data()"
   ]
  },
  {
   "cell_type": "code",
   "execution_count": null,
   "id": "c35fcb95",
   "metadata": {},
   "outputs": [],
   "source": []
  },
  {
   "cell_type": "code",
   "execution_count": 61,
   "id": "bfd72942",
   "metadata": {},
   "outputs": [
    {
     "data": {
      "text/plain": [
       "[{'connected': {'componentId': 3, 'id': 'User_19'}, 'connectionDistance': 2},\n",
       " {'connected': {'componentId': 3, 'id': 'User_80'}, 'connectionDistance': 2},\n",
       " {'connected': {'componentId': 3, 'id': 'User_94'}, 'connectionDistance': 2},\n",
       " {'connected': {'componentId': 3, 'id': 'User_503'}, 'connectionDistance': 2},\n",
       " {'connected': {'componentId': 3, 'id': 'User_579'}, 'connectionDistance': 2},\n",
       " {'connected': {'componentId': 3, 'id': 'User_1127'}, 'connectionDistance': 2},\n",
       " {'connected': {'componentId': 3, 'id': 'User_1207'}, 'connectionDistance': 2},\n",
       " {'connected': {'componentId': 3, 'id': 'User_1783'}, 'connectionDistance': 2},\n",
       " {'connected': {'componentId': 3, 'id': 'User_1870'}, 'connectionDistance': 2},\n",
       " {'connected': {'componentId': 3, 'id': 'User_2371'}, 'connectionDistance': 2},\n",
       " {'connected': {'componentId': 3, 'id': 'User_2391'}, 'connectionDistance': 2},\n",
       " {'connected': {'componentId': 3, 'id': 'User_2416'}, 'connectionDistance': 2},\n",
       " {'connected': {'componentId': 3, 'id': 'User_3354'}, 'connectionDistance': 2},\n",
       " {'connected': {'componentId': 3, 'id': 'User_3400'}, 'connectionDistance': 2},\n",
       " {'connected': {'componentId': 3, 'id': 'User_3615'}, 'connectionDistance': 2},\n",
       " {'connected': {'componentId': 3, 'id': 'User_4681'}, 'connectionDistance': 2},\n",
       " {'connected': {'componentId': 3, 'id': 'User_4897'}, 'connectionDistance': 2},\n",
       " {'connected': {'componentId': 3, 'id': 'User_5005'}, 'connectionDistance': 2},\n",
       " {'connected': {'componentId': 3, 'id': 'User_5353'}, 'connectionDistance': 2},\n",
       " {'connected': {'componentId': 3, 'id': 'User_5730'}, 'connectionDistance': 2},\n",
       " {'connected': {'componentId': 3, 'id': 'User_6480'}, 'connectionDistance': 2},\n",
       " {'connected': {'componentId': 3, 'id': 'User_6565'}, 'connectionDistance': 2},\n",
       " {'connected': {'componentId': 3, 'id': 'User_6668'}, 'connectionDistance': 2},\n",
       " {'connected': {'componentId': 3, 'id': 'User_6688'}, 'connectionDistance': 2},\n",
       " {'connected': {'componentId': 3, 'id': 'User_7191'}, 'connectionDistance': 2},\n",
       " {'connected': {'componentId': 3, 'id': 'User_7203'}, 'connectionDistance': 2},\n",
       " {'connected': {'componentId': 3, 'id': 'User_7209'}, 'connectionDistance': 2},\n",
       " {'connected': {'componentId': 3, 'id': 'User_7621'}, 'connectionDistance': 2},\n",
       " {'connected': {'componentId': 3, 'id': 'User_7829'}, 'connectionDistance': 2},\n",
       " {'connected': {'componentId': 3, 'id': 'User_7842'}, 'connectionDistance': 2},\n",
       " {'connected': {'componentId': 3, 'id': 'User_8069'}, 'connectionDistance': 2},\n",
       " {'connected': {'componentId': 3, 'id': 'User_8305'}, 'connectionDistance': 2},\n",
       " {'connected': {'componentId': 3, 'id': 'User_8705'}, 'connectionDistance': 2},\n",
       " {'connected': {'componentId': 3, 'id': 'User_9052'}, 'connectionDistance': 2},\n",
       " {'connected': {'componentId': 3, 'id': 'User_9178'}, 'connectionDistance': 2}]"
      ]
     },
     "execution_count": 61,
     "metadata": {},
     "output_type": "execute_result"
    }
   ],
   "source": [
    "# FINDING CONNECTIONS\n",
    "def get_connected_users_by_level(user_id, edges, level):\n",
    "    if len(edges)==1:\n",
    "        edges = edges[0]\n",
    "        query = f\"\"\"\n",
    "            MATCH path=(:User {{id: '{user_id}'}})-[:{edges}*..{level}]-(connected:User)\n",
    "            WHERE ALL(r IN relationships(path) WHERE type(r) in ['{edges}'])\n",
    "            AND length(path) > 0\n",
    "            AND connected.id <> \"User_23\"\n",
    "            RETURN connected, length(path) AS connectionDistance\n",
    "            ORDER BY connectionDistance\n",
    "            \"\"\"\n",
    "    else:\n",
    "        query = f\"\"\"\n",
    "            MATCH path=(:User {{id: '{user_id}'}})-[:{\"|\".join(edges)}*..{level}]-(connected:User)\n",
    "            WHERE ALL(r IN relationships(path) WHERE type(r) in {edges})\n",
    "            AND length(path) > 0\n",
    "            AND connected.id <> \"User_23\"\n",
    "            RETURN connected, length(path) AS connectionDistance\n",
    "            ORDER BY connectionDistance\n",
    "            \"\"\"\n",
    "    with get_session() as session:\n",
    "        result = session.run(query, parameters={\"user_id\": user_id, \"edges\":edges, \"level\":level})\n",
    "        # print(query)\n",
    "        return result.data()\n",
    "    \n",
    "result = get_connected_users_by_level(\"User_23\",['HAS_UID1'],2)\n",
    "result"
   ]
  },
  {
   "cell_type": "code",
   "execution_count": null,
   "id": "20e6ce73",
   "metadata": {},
   "outputs": [],
   "source": []
  },
  {
   "cell_type": "code",
   "execution_count": null,
   "id": "ed3dd4d0",
   "metadata": {},
   "outputs": [],
   "source": [
    "# def project_graph():\n",
    "#     query = \"\"\"\n",
    "#     CALL gds.graph.project(\n",
    "#       'fraudGraph',\n",
    "#       ['User', 'UID1', 'UID2', 'UID3'],\n",
    "#       {\n",
    "#         HAS_UID1: {type: 'HAS_UID1', orientation: 'UNDIRECTED'},\n",
    "#         HAS_UID2: {type: 'HAS_UID2', orientation: 'UNDIRECTED'},\n",
    "#         HAS_UID3: {type: 'HAS_UID3', orientation: 'UNDIRECTED'}\n",
    "#       }\n",
    "#     )\n",
    "#     YIELD graphName, nodeCount, relationshipCount\n",
    "#     \"\"\"\n",
    "#     with get_session() as session:\n",
    "#         result = session.run(query)\n",
    "#         return result.single()\n",
    "\n",
    "# project_graph()\n",
    "\n",
    "# def run_wcc():\n",
    "#     query = \"\"\"\n",
    "#     CALL gds.wcc.write(\n",
    "#       'fraudGraph',\n",
    "#       {\n",
    "#         writeProperty: 'componentId'\n",
    "#       }\n",
    "#     )\n",
    "#     YIELD componentCount, nodePropertiesWritten\n",
    "#     \"\"\"\n",
    "#     with get_session() as session:\n",
    "#         result = session.run(query)\n",
    "#         return result.single()\n",
    "\n",
    "# run_wcc()\n",
    "\n",
    "# def drop_graph():\n",
    "#     query = \"CALL gds.graph.drop('fraudGraph') YIELD graphName\"\n",
    "#     with get_session() as session:\n",
    "#         session.run(query)\n",
    "\n",
    "# drop_graph()"
   ]
  },
  {
   "cell_type": "code",
   "execution_count": null,
   "id": "6e6964da",
   "metadata": {},
   "outputs": [],
   "source": []
  },
  {
   "cell_type": "code",
   "execution_count": null,
   "id": "811a05ab",
   "metadata": {},
   "outputs": [],
   "source": [
    "def get_connected_users_by_level(user_id, level):\n",
    "    query = \"\"\"\n",
    "    MATCH (start:User {id: $user_id})\n",
    "    CALL {\n",
    "        WITH start\n",
    "        MATCH path = (start)-[:HAS_UID1*1..$level]-(connected:User)\n",
    "        RETURN collect(DISTINCT connected.id) AS connectedUsers\n",
    "    }\n",
    "    RETURN connectedUsers\n",
    "    \"\"\"\n",
    "    with get_session() as session:\n",
    "        result = session.run(query, parameters={\"user_id\": user_id, \"level\": level})\n",
    "        return result.single()[\"connectedUsers\"]\n",
    "\n",
    "# Example usage:\n",
    "level_1_users = get_connected_users_by_level(\"U123\", 1)\n",
    "print(\"Level 1:\", level_1_users)\n",
    "\n",
    "level_2_users = get_connected_users_by_level(\"U123\", 2)\n",
    "print(\"Level 2:\", level_2_users)\n",
    "\n",
    "level_5_users = get_connected_users_by_level(\"U123\", 5)\n",
    "print(\"Level 5:\", level_5_users)\n"
   ]
  },
  {
   "cell_type": "code",
   "execution_count": 25,
   "id": "312664d1",
   "metadata": {},
   "outputs": [
    {
     "name": "stderr",
     "output_type": "stream",
     "text": [
      "Received notification from DBMS server: {severity: WARNING} {code: Neo.ClientNotification.Statement.FeatureDeprecationWarning} {category: DEPRECATION} {title: This feature is deprecated and will be removed in future versions.} {description: CALL subquery without a variable scope clause is now deprecated. Use CALL (start) { ... }} {position: line: 3, column: 5, offset: 43} for query: '\\n    MATCH (start:User {id: $user_id})\\n    CALL {\\n        WITH start\\n        MATCH path = (start)-[:HAS_UID1*1..1]-(connected:User)\\n        RETURN collect(DISTINCT connected.id) AS connectedUsers\\n    }\\n    RETURN connectedUsers\\n    '\n"
     ]
    },
    {
     "name": "stderr",
     "output_type": "stream",
     "text": [
      "Received notification from DBMS server: {severity: WARNING} {code: Neo.ClientNotification.Statement.FeatureDeprecationWarning} {category: DEPRECATION} {title: This feature is deprecated and will be removed in future versions.} {description: CALL subquery without a variable scope clause is now deprecated. Use CALL (start) { ... }} {position: line: 3, column: 5, offset: 43} for query: '\\n    MATCH (start:User {id: $user_id})\\n    CALL {\\n        WITH start\\n        MATCH path = (start)-[:HAS_UID1|HAS_UID2*1..3]-(connected:User)\\n        RETURN collect(DISTINCT connected.id) AS connectedUsers\\n    }\\n    RETURN connectedUsers\\n    '\n"
     ]
    },
    {
     "name": "stdout",
     "output_type": "stream",
     "text": [
      "\n",
      "    MATCH (start:User {id: $user_id})\n",
      "    CALL {\n",
      "        WITH start\n",
      "        MATCH path = (start)-[:HAS_UID1*1..1]-(connected:User)\n",
      "        RETURN collect(DISTINCT connected.id) AS connectedUsers\n",
      "    }\n",
      "    RETURN connectedUsers\n",
      "    \n",
      "Level 1 UID1: []\n",
      "\n",
      "    MATCH (start:User {id: $user_id})\n",
      "    CALL {\n",
      "        WITH start\n",
      "        MATCH path = (start)-[:HAS_UID1|HAS_UID2*1..3]-(connected:User)\n",
      "        RETURN collect(DISTINCT connected.id) AS connectedUsers\n",
      "    }\n",
      "    RETURN connectedUsers\n",
      "    \n",
      "Level 3 UID1 & UID2: ['User_174', 'User_1117', 'User_1394', 'User_1467', 'User_1912', 'User_1968', 'User_2167', 'User_2243', 'User_2385', 'User_2840', 'User_3462', 'User_4211', 'User_4243', 'User_4305', 'User_4406', 'User_4508', 'User_4697', 'User_5113', 'User_5244', 'User_5796', 'User_6339', 'User_7103', 'User_7776', 'User_7864', 'User_7958', 'User_8321', 'User_8804', 'User_8849', 'User_8976', 'User_9012', 'User_9025', 'User_9292', 'User_9541', 'User_9656', 'User_19', 'User_80', 'User_94', 'User_503', 'User_579', 'User_1127', 'User_1207', 'User_1783', 'User_1870', 'User_2371', 'User_2391', 'User_2416', 'User_3354', 'User_3400', 'User_3615', 'User_4681', 'User_4897', 'User_5005', 'User_5353', 'User_5730', 'User_6480', 'User_6565', 'User_6668', 'User_6688', 'User_7191', 'User_7203', 'User_7209', 'User_7621', 'User_7829', 'User_7842', 'User_8069', 'User_8305', 'User_8705', 'User_9052', 'User_9178']\n"
     ]
    }
   ],
   "source": [
    "def get_connected_users(user_id, level, edge_types):\n",
    "    # Build relationship types string — no backticks inside pipes\n",
    "    rel_types_cypher = \"|\".join(edge_types)\n",
    "\n",
    "    # Build full Cypher query\n",
    "    query = f\"\"\"\n",
    "    MATCH (start:User {{id: $user_id}})\n",
    "    CALL {{\n",
    "        WITH start\n",
    "        MATCH path = (start)-[:{rel_types_cypher}*1..{level}]-(connected:User)\n",
    "        RETURN collect(DISTINCT connected.id) AS connectedUsers\n",
    "    }}\n",
    "    RETURN connectedUsers\n",
    "    \"\"\"\n",
    "    print(query)\n",
    "    with get_session() as session:\n",
    "        result = session.run(query, parameters={\"user_id\": user_id})\n",
    "        return result.single()[\"connectedUsers\"]\n",
    "\n",
    "# Example usage:\n",
    "connected_lvl1_uid1 = get_connected_users(\"User_23\", 1, [\"HAS_UID1\"])\n",
    "print(\"Level 1 UID1:\", connected_lvl1_uid1)\n",
    "\n",
    "connected_lvl3_uid1_uid2 = get_connected_users(\"User_23\", 3, [\"HAS_UID1\", \"HAS_UID2\"])\n",
    "print(\"Level 3 UID1 & UID2:\", connected_lvl3_uid1_uid2)\n",
    "\n",
    "\n",
    "# # Example usage:\n",
    "# connected_lvl1_uid1 = get_connected_users(\"User_23\", 1, [\"HAS_UID1\"])\n",
    "# print(\"Level 1 UID1:\", connected_lvl1_uid1)\n",
    "\n",
    "# connected_lvl2_uid1_uid2 = get_connected_users(\"User_23\", 2, [\"HAS_UID1\", \"HAS_UID2\"])\n",
    "# print(\"Level 2 UID1 & UID2:\", connected_lvl2_uid1_uid2)\n",
    "\n",
    "# connected_lvl2_uid1_uid2 = get_connected_users(\"User_23\", 4, [\"HAS_UID1\", \"HAS_UID2\"])\n",
    "# print(\"Level 2 UID1 & UID2:\", connected_lvl2_uid1_uid2)\n",
    "\n",
    "# connected_all_5 = get_connected_users(\"User_23\", 5, [\"HAS_UID1\", \"HAS_UID2\", \"HAS_UID3\"])\n",
    "# print(\"Level 5 UID1, UID2, UID3:\", connected_all_5)"
   ]
  },
  {
   "cell_type": "code",
   "execution_count": 19,
   "id": "7bd42d64",
   "metadata": {},
   "outputs": [
    {
     "name": "stdout",
     "output_type": "stream",
     "text": [
      "['User_4', 'User_5', 'User_7', 'User_9', 'User_10', 'User_13', 'User_16', 'User_17', 'User_18', 'User_19', 'User_20', 'User_21', 'User_23', 'User_25', 'User_26', 'User_28', 'User_32', 'User_34', 'User_36', 'User_37', 'User_38', 'User_41', 'User_42', 'User_46', 'User_50', 'User_54', 'User_57', 'User_60', 'User_64', 'User_65', 'User_66', 'User_67', 'User_68', 'User_69', 'User_71', 'User_75', 'User_77', 'User_80', 'User_84', 'User_85', 'User_90', 'User_91', 'User_94', 'User_95', 'User_96', 'User_98', 'User_99', 'User_101', 'User_102', 'User_106', 'User_108', 'User_112', 'User_113', 'User_114', 'User_115', 'User_116', 'User_118', 'User_121', 'User_122', 'User_123', 'User_126', 'User_127', 'User_128', 'User_129', 'User_130', 'User_131', 'User_132', 'User_137', 'User_139', 'User_140', 'User_142', 'User_150', 'User_152', 'User_154', 'User_156', 'User_157', 'User_158', 'User_159', 'User_160', 'User_162', 'User_163', 'User_165', 'User_166', 'User_167', 'User_170', 'User_173', 'User_174', 'User_176', 'User_178', 'User_181', 'User_185', 'User_186', 'User_187', 'User_188', 'User_189', 'User_190', 'User_191', 'User_192', 'User_196', 'User_199', 'User_205', 'User_208', 'User_210', 'User_212', 'User_214', 'User_216', 'User_217', 'User_218', 'User_220', 'User_222', 'User_223', 'User_224', 'User_225', 'User_226', 'User_227', 'User_228', 'User_236', 'User_238', 'User_240', 'User_241', 'User_242', 'User_243', 'User_244', 'User_248', 'User_254', 'User_255', 'User_256', 'User_257', 'User_258', 'User_264', 'User_265', 'User_266', 'User_267', 'User_269', 'User_271', 'User_274', 'User_277', 'User_280', 'User_281', 'User_283', 'User_287', 'User_288', 'User_292', 'User_295', 'User_296', 'User_299', 'User_302', 'User_303', 'User_311', 'User_312', 'User_314', 'User_318', 'User_321', 'User_323', 'User_326', 'User_328', 'User_333', 'User_336', 'User_338', 'User_341', 'User_343', 'User_344', 'User_346', 'User_349', 'User_352', 'User_356', 'User_358', 'User_359', 'User_360', 'User_363', 'User_364', 'User_365', 'User_366', 'User_367', 'User_368', 'User_370', 'User_373', 'User_379', 'User_380', 'User_381', 'User_384', 'User_385', 'User_387', 'User_388', 'User_390', 'User_391', 'User_393', 'User_394', 'User_395', 'User_396', 'User_398', 'User_399', 'User_405', 'User_410', 'User_411', 'User_413', 'User_415', 'User_416', 'User_418', 'User_420', 'User_421', 'User_423', 'User_426', 'User_429', 'User_430', 'User_431', 'User_433', 'User_434', 'User_436', 'User_437', 'User_438', 'User_440', 'User_441', 'User_442', 'User_444', 'User_450', 'User_452', 'User_453', 'User_454', 'User_457', 'User_461', 'User_463', 'User_465', 'User_467', 'User_472', 'User_473', 'User_474', 'User_475', 'User_476', 'User_477', 'User_479', 'User_482', 'User_483', 'User_484', 'User_487', 'User_488', 'User_489', 'User_491', 'User_492', 'User_495', 'User_496', 'User_497', 'User_498', 'User_499', 'User_503', 'User_504', 'User_506', 'User_507', 'User_510', 'User_513', 'User_514', 'User_518', 'User_519', 'User_523', 'User_524', 'User_528', 'User_529', 'User_534', 'User_536', 'User_538', 'User_541', 'User_543', 'User_544', 'User_550', 'User_551', 'User_552', 'User_553', 'User_556', 'User_559', 'User_560', 'User_562', 'User_565', 'User_566', 'User_567', 'User_568', 'User_569', 'User_571', 'User_572', 'User_574', 'User_575', 'User_576', 'User_577', 'User_578', 'User_579', 'User_588', 'User_589', 'User_590', 'User_591', 'User_593', 'User_598', 'User_599', 'User_607', 'User_613', 'User_617', 'User_620', 'User_622', 'User_624', 'User_625', 'User_627', 'User_628', 'User_630', 'User_631', 'User_635', 'User_637', 'User_639', 'User_642', 'User_644', 'User_647', 'User_649', 'User_651', 'User_654', 'User_655', 'User_659', 'User_660', 'User_662', 'User_663', 'User_664', 'User_667', 'User_673', 'User_674', 'User_676', 'User_677', 'User_678', 'User_679', 'User_680', 'User_682', 'User_683', 'User_684', 'User_686', 'User_688', 'User_689', 'User_691', 'User_694', 'User_696', 'User_698', 'User_701', 'User_704', 'User_710', 'User_712', 'User_713', 'User_714', 'User_717', 'User_718', 'User_723', 'User_726', 'User_727', 'User_728', 'User_729', 'User_731', 'User_732', 'User_734', 'User_736', 'User_737', 'User_740', 'User_741', 'User_745', 'User_748', 'User_749', 'User_751', 'User_755', 'User_759', 'User_763', 'User_764', 'User_765', 'User_766', 'User_767', 'User_768', 'User_769', 'User_770', 'User_773', 'User_774', 'User_775', 'User_777', 'User_778', 'User_779', 'User_780', 'User_781', 'User_785', 'User_795', 'User_796', 'User_798', 'User_799', 'User_800', 'User_802', 'User_803', 'User_804', 'User_805', 'User_806', 'User_808', 'User_809', 'User_810', 'User_813', 'User_818', 'User_819', 'User_820', 'User_822', 'User_823', 'User_824', 'User_825', 'User_826', 'User_828', 'User_832', 'User_834', 'User_835', 'User_840', 'User_841', 'User_842', 'User_845', 'User_848', 'User_850', 'User_852', 'User_856', 'User_859', 'User_861', 'User_862', 'User_863', 'User_864', 'User_866', 'User_867', 'User_868', 'User_869', 'User_873', 'User_874', 'User_875', 'User_876', 'User_878', 'User_880', 'User_881', 'User_882', 'User_883', 'User_884', 'User_885', 'User_887', 'User_888', 'User_889', 'User_892', 'User_893', 'User_896', 'User_897', 'User_902', 'User_903', 'User_907', 'User_911', 'User_912', 'User_913', 'User_914', 'User_916', 'User_917', 'User_919', 'User_920', 'User_922', 'User_923', 'User_926', 'User_929', 'User_930', 'User_931', 'User_933', 'User_936', 'User_938', 'User_939', 'User_942', 'User_944', 'User_945', 'User_947', 'User_948', 'User_949', 'User_951', 'User_952', 'User_953', 'User_954', 'User_955', 'User_958', 'User_959', 'User_962', 'User_967', 'User_969', 'User_970', 'User_972', 'User_973', 'User_974', 'User_980', 'User_982', 'User_983', 'User_984', 'User_989', 'User_991', 'User_992', 'User_993', 'User_994', 'User_995', 'User_996', 'User_997', 'User_998', 'User_1001', 'User_1002', 'User_1004', 'User_1005', 'User_1006', 'User_1007', 'User_1013', 'User_1014', 'User_1015', 'User_1019', 'User_1020', 'User_1022', 'User_1026', 'User_1027', 'User_1033', 'User_1034', 'User_1037', 'User_1038', 'User_1043', 'User_1044', 'User_1045', 'User_1046', 'User_1047', 'User_1048', 'User_1050', 'User_1051', 'User_1052', 'User_1054', 'User_1059', 'User_1061', 'User_1062', 'User_1065', 'User_1066', 'User_1068', 'User_1070', 'User_1072', 'User_1073', 'User_1075', 'User_1076', 'User_1078', 'User_1079', 'User_1080', 'User_1081', 'User_1082', 'User_1083', 'User_1084', 'User_1085', 'User_1086', 'User_1087', 'User_1088', 'User_1092', 'User_1094', 'User_1098', 'User_1099', 'User_1105', 'User_1106', 'User_1108', 'User_1109', 'User_1112', 'User_1114', 'User_1115', 'User_1117', 'User_1118', 'User_1119', 'User_1125', 'User_1127', 'User_1132', 'User_1133', 'User_1134', 'User_1135', 'User_1137', 'User_1139', 'User_1140', 'User_1141', 'User_1143', 'User_1144', 'User_1146', 'User_1148', 'User_1151', 'User_1155', 'User_1163', 'User_1165', 'User_1167', 'User_1170', 'User_1171', 'User_1172', 'User_1173', 'User_1176', 'User_1177', 'User_1179', 'User_1182', 'User_1184', 'User_1185', 'User_1186', 'User_1188', 'User_1189', 'User_1190', 'User_1191', 'User_1192', 'User_1193', 'User_1194', 'User_1195', 'User_1200', 'User_1201', 'User_1202', 'User_1207', 'User_1210', 'User_1212', 'User_1214', 'User_1216', 'User_1217', 'User_1219', 'User_1220', 'User_1223', 'User_1224', 'User_1225', 'User_1228', 'User_1229', 'User_1230', 'User_1231', 'User_1233', 'User_1234', 'User_1236', 'User_1237', 'User_1241', 'User_1243', 'User_1244', 'User_1245', 'User_1246', 'User_1249', 'User_1251', 'User_1252', 'User_1255', 'User_1257', 'User_1258', 'User_1260', 'User_1261', 'User_1262', 'User_1264', 'User_1266', 'User_1267', 'User_1270', 'User_1272', 'User_1274', 'User_1275', 'User_1276', 'User_1278', 'User_1280', 'User_1282', 'User_1284', 'User_1286', 'User_1287', 'User_1288', 'User_1291', 'User_1293', 'User_1294', 'User_1295', 'User_1300', 'User_1301', 'User_1304', 'User_1305', 'User_1306', 'User_1309', 'User_1310', 'User_1311', 'User_1312', 'User_1316', 'User_1318', 'User_1319', 'User_1320', 'User_1322', 'User_1323', 'User_1324', 'User_1330', 'User_1332', 'User_1333', 'User_1334', 'User_1336', 'User_1337', 'User_1338', 'User_1339', 'User_1341', 'User_1342', 'User_1347', 'User_1351', 'User_1352', 'User_1355', 'User_1360', 'User_1362', 'User_1363', 'User_1364', 'User_1365', 'User_1368', 'User_1370', 'User_1371', 'User_1373', 'User_1375', 'User_1377', 'User_1379', 'User_1382', 'User_1383', 'User_1386', 'User_1389', 'User_1394', 'User_1395', 'User_1398', 'User_1400', 'User_1401', 'User_1404', 'User_1405', 'User_1406', 'User_1407', 'User_1408', 'User_1409', 'User_1410', 'User_1411', 'User_1412', 'User_1415', 'User_1416', 'User_1418', 'User_1420', 'User_1422', 'User_1424', 'User_1425', 'User_1426', 'User_1427', 'User_1434', 'User_1435', 'User_1436', 'User_1438', 'User_1439', 'User_1440', 'User_1441', 'User_1444', 'User_1448', 'User_1451', 'User_1452', 'User_1453', 'User_1454', 'User_1455', 'User_1460', 'User_1462', 'User_1464', 'User_1465', 'User_1467', 'User_1468', 'User_1469', 'User_1472', 'User_1474', 'User_1476', 'User_1477', 'User_1478', 'User_1479', 'User_1480', 'User_1481', 'User_1484', 'User_1488', 'User_1489', 'User_1490', 'User_1492', 'User_1494', 'User_1497', 'User_1498', 'User_1500', 'User_1501', 'User_1505', 'User_1507', 'User_1508', 'User_1509', 'User_1512', 'User_1515', 'User_1516', 'User_1517', 'User_1518', 'User_1519', 'User_1521', 'User_1522', 'User_1525', 'User_1526', 'User_1527', 'User_1529', 'User_1530', 'User_1532', 'User_1533', 'User_1534', 'User_1545', 'User_1546', 'User_1547', 'User_1548', 'User_1549', 'User_1550', 'User_1551', 'User_1552', 'User_1554', 'User_1555', 'User_1556', 'User_1557', 'User_1560', 'User_1562', 'User_1564', 'User_1565', 'User_1567', 'User_1569', 'User_1570', 'User_1571', 'User_1573', 'User_1574', 'User_1575', 'User_1576', 'User_1577', 'User_1584', 'User_1585', 'User_1587', 'User_1588', 'User_1590', 'User_1591', 'User_1593', 'User_1598', 'User_1600', 'User_1603', 'User_1606', 'User_1608', 'User_1610', 'User_1611', 'User_1612', 'User_1613', 'User_1615', 'User_1616', 'User_1618', 'User_1622', 'User_1626', 'User_1627', 'User_1628', 'User_1629', 'User_1631', 'User_1634', 'User_1635', 'User_1638', 'User_1640', 'User_1642', 'User_1643', 'User_1646', 'User_1657', 'User_1658', 'User_1659', 'User_1663', 'User_1665', 'User_1667', 'User_1669', 'User_1671', 'User_1673', 'User_1675', 'User_1677', 'User_1678', 'User_1681', 'User_1682', 'User_1684', 'User_1685', 'User_1686', 'User_1689', 'User_1690', 'User_1693', 'User_1697', 'User_1698', 'User_1699', 'User_1703', 'User_1704', 'User_1705', 'User_1708', 'User_1709', 'User_1711', 'User_1713', 'User_1715', 'User_1716', 'User_1719', 'User_1720', 'User_1721', 'User_1723', 'User_1725', 'User_1726', 'User_1727', 'User_1728', 'User_1730', 'User_1731', 'User_1732', 'User_1733', 'User_1734', 'User_1735', 'User_1736', 'User_1737', 'User_1739', 'User_1740', 'User_1741', 'User_1742', 'User_1749', 'User_1750', 'User_1751', 'User_1752', 'User_1754', 'User_1755', 'User_1756', 'User_1760', 'User_1762', 'User_1764', 'User_1768', 'User_1770', 'User_1771', 'User_1773', 'User_1774', 'User_1775', 'User_1776', 'User_1777', 'User_1778', 'User_1779', 'User_1781', 'User_1783', 'User_1785', 'User_1786', 'User_1787', 'User_1788', 'User_1792', 'User_1793', 'User_1794', 'User_1796', 'User_1797', 'User_1798', 'User_1799', 'User_1801', 'User_1802', 'User_1803', 'User_1808', 'User_1809', 'User_1810', 'User_1813', 'User_1816', 'User_1820', 'User_1826', 'User_1828', 'User_1829', 'User_1830', 'User_1833', 'User_1835', 'User_1836', 'User_1837', 'User_1838', 'User_1840', 'User_1841', 'User_1843', 'User_1845', 'User_1846', 'User_1847', 'User_1849', 'User_1850', 'User_1856', 'User_1857', 'User_1858', 'User_1860', 'User_1861', 'User_1862', 'User_1869', 'User_1870', 'User_1872', 'User_1873', 'User_1874', 'User_1879', 'User_1880', 'User_1881', 'User_1882', 'User_1883', 'User_1884', 'User_1890', 'User_1892', 'User_1893', 'User_1894', 'User_1896', 'User_1898', 'User_1899', 'User_1902', 'User_1903', 'User_1910', 'User_1912', 'User_1913', 'User_1914', 'User_1916', 'User_1917', 'User_1919', 'User_1920', 'User_1922', 'User_1923', 'User_1924', 'User_1925', 'User_1926', 'User_1927', 'User_1929', 'User_1930', 'User_1939', 'User_1940', 'User_1942', 'User_1944', 'User_1946', 'User_1948', 'User_1949', 'User_1951', 'User_1953', 'User_1956', 'User_1959', 'User_1960', 'User_1962', 'User_1964', 'User_1965', 'User_1968', 'User_1972', 'User_1973', 'User_1979', 'User_1983', 'User_1986', 'User_1987', 'User_1988', 'User_1989', 'User_1990', 'User_1991', 'User_1993', 'User_1995', 'User_1997', 'User_1998', 'User_1999', 'User_2000', 'User_2002', 'User_2003', 'User_2004', 'User_2006', 'User_2008', 'User_2009', 'User_2011', 'User_2012', 'User_2013', 'User_2015', 'User_2018', 'User_2019', 'User_2020', 'User_2021', 'User_2022', 'User_2023', 'User_2028', 'User_2029', 'User_2031', 'User_2035', 'User_2036', 'User_2038', 'User_2041', 'User_2042', 'User_2044', 'User_2051', 'User_2052', 'User_2053', 'User_2055', 'User_2057', 'User_2059', 'User_2062', 'User_2063', 'User_2066', 'User_2068', 'User_2072', 'User_2074', 'User_2075', 'User_2077', 'User_2081', 'User_2082', 'User_2091', 'User_2092', 'User_2094', 'User_2096', 'User_2098', 'User_2100', 'User_2101', 'User_2104', 'User_2106', 'User_2110', 'User_2111', 'User_2112', 'User_2113', 'User_2114', 'User_2117', 'User_2118', 'User_2123', 'User_2126', 'User_2127', 'User_2128', 'User_2129', 'User_2130', 'User_2131', 'User_2132', 'User_2133', 'User_2134', 'User_2136', 'User_2139', 'User_2141', 'User_2143', 'User_2145', 'User_2146', 'User_2147', 'User_2149', 'User_2150', 'User_2152', 'User_2153', 'User_2155', 'User_2157', 'User_2159', 'User_2160', 'User_2161', 'User_2162', 'User_2163', 'User_2165', 'User_2166', 'User_2167', 'User_2168', 'User_2169', 'User_2170', 'User_2171', 'User_2172', 'User_2173', 'User_2174', 'User_2175', 'User_2177', 'User_2178', 'User_2179', 'User_2180', 'User_2181', 'User_2182', 'User_2184', 'User_2185', 'User_2186', 'User_2189', 'User_2191', 'User_2192', 'User_2195', 'User_2197', 'User_2204', 'User_2206', 'User_2208', 'User_2209', 'User_2211', 'User_2212', 'User_2215', 'User_2216', 'User_2217', 'User_2218', 'User_2219', 'User_2221', 'User_2222', 'User_2226', 'User_2228', 'User_2230', 'User_2232', 'User_2233', 'User_2235', 'User_2236', 'User_2240', 'User_2241', 'User_2243', 'User_2245', 'User_2246', 'User_2250', 'User_2251', 'User_2252', 'User_2253', 'User_2257', 'User_2258', 'User_2260', 'User_2262', 'User_2263', 'User_2264', 'User_2265', 'User_2267', 'User_2269', 'User_2273', 'User_2274', 'User_2275', 'User_2279', 'User_2281', 'User_2283', 'User_2287', 'User_2289', 'User_2290', 'User_2293', 'User_2296', 'User_2299', 'User_2301', 'User_2302', 'User_2303', 'User_2305', 'User_2306', 'User_2309', 'User_2311', 'User_2313', 'User_2315', 'User_2316', 'User_2317', 'User_2320', 'User_2322', 'User_2323', 'User_2325', 'User_2328', 'User_2329', 'User_2330', 'User_2331', 'User_2334', 'User_2340', 'User_2341', 'User_2342', 'User_2344', 'User_2346', 'User_2347', 'User_2350', 'User_2352', 'User_2355', 'User_2357', 'User_2359', 'User_2362', 'User_2363', 'User_2364', 'User_2365', 'User_2369', 'User_2370', 'User_2371', 'User_2372', 'User_2373', 'User_2374', 'User_2376', 'User_2377', 'User_2380', 'User_2381', 'User_2384', 'User_2385', 'User_2386', 'User_2388', 'User_2389', 'User_2390', 'User_2391', 'User_2392', 'User_2395', 'User_2396', 'User_2397', 'User_2399', 'User_2401', 'User_2402', 'User_2404', 'User_2412', 'User_2413', 'User_2416', 'User_2419', 'User_2422', 'User_2423', 'User_2426', 'User_2427', 'User_2428', 'User_2431', 'User_2434', 'User_2435', 'User_2437', 'User_2438', 'User_2441', 'User_2445', 'User_2448', 'User_2449', 'User_2450', 'User_2451', 'User_2453', 'User_2454', 'User_2461', 'User_2462', 'User_2464', 'User_2465', 'User_2466', 'User_2467', 'User_2472', 'User_2473', 'User_2474', 'User_2475', 'User_2476', 'User_2477', 'User_2478', 'User_2479', 'User_2480', 'User_2482', 'User_2483', 'User_2485', 'User_2486', 'User_2487', 'User_2490', 'User_2492', 'User_2495', 'User_2496', 'User_2500', 'User_2501', 'User_2502', 'User_2505', 'User_2506', 'User_2508', 'User_2511', 'User_2512', 'User_2516', 'User_2517', 'User_2518', 'User_2519', 'User_2521', 'User_2524', 'User_2525', 'User_2529', 'User_2531', 'User_2532', 'User_2533', 'User_2536', 'User_2539', 'User_2540', 'User_2542', 'User_2543', 'User_2544', 'User_2545', 'User_2548', 'User_2549', 'User_2551', 'User_2552', 'User_2554', 'User_2556', 'User_2557', 'User_2558', 'User_2559', 'User_2561', 'User_2564', 'User_2566', 'User_2567', 'User_2568', 'User_2570', 'User_2571', 'User_2573', 'User_2575', 'User_2576', 'User_2580', 'User_2581', 'User_2582', 'User_2587', 'User_2588', 'User_2589', 'User_2591', 'User_2592', 'User_2594', 'User_2598', 'User_2599', 'User_2600', 'User_2601', 'User_2602', 'User_2603', 'User_2606', 'User_2607', 'User_2608', 'User_2609', 'User_2610', 'User_2611', 'User_2612', 'User_2615', 'User_2616', 'User_2617', 'User_2618', 'User_2620', 'User_2622', 'User_2624', 'User_2627', 'User_2630', 'User_2631', 'User_2632', 'User_2633', 'User_2635', 'User_2636', 'User_2641', 'User_2642', 'User_2643', 'User_2644', 'User_2645', 'User_2646', 'User_2648', 'User_2652', 'User_2653', 'User_2654', 'User_2656', 'User_2657', 'User_2658', 'User_2659', 'User_2660', 'User_2666', 'User_2671', 'User_2673', 'User_2674', 'User_2681', 'User_2682', 'User_2686', 'User_2689', 'User_2692', 'User_2694', 'User_2700', 'User_2701', 'User_2707', 'User_2709', 'User_2710', 'User_2712', 'User_2713', 'User_2714', 'User_2718', 'User_2721', 'User_2722', 'User_2723', 'User_2727', 'User_2728', 'User_2729', 'User_2730', 'User_2732', 'User_2735', 'User_2737', 'User_2739', 'User_2741', 'User_2743', 'User_2745', 'User_2746', 'User_2747', 'User_2749', 'User_2750', 'User_2751', 'User_2754', 'User_2755', 'User_2757', 'User_2760', 'User_2761', 'User_2763', 'User_2765', 'User_2766', 'User_2767', 'User_2769', 'User_2770', 'User_2772', 'User_2773', 'User_2775', 'User_2779', 'User_2780', 'User_2781', 'User_2782', 'User_2784', 'User_2787', 'User_2788', 'User_2792', 'User_2793', 'User_2795', 'User_2798', 'User_2802', 'User_2804', 'User_2805', 'User_2806', 'User_2807', 'User_2808', 'User_2810', 'User_2811', 'User_2813', 'User_2814', 'User_2817', 'User_2818', 'User_2819', 'User_2820', 'User_2821', 'User_2822', 'User_2824', 'User_2826', 'User_2827', 'User_2832', 'User_2833', 'User_2837', 'User_2838', 'User_2840', 'User_2841', 'User_2842', 'User_2848', 'User_2851', 'User_2852', 'User_2854', 'User_2855', 'User_2857', 'User_2859', 'User_2860', 'User_2862', 'User_2865', 'User_2866', 'User_2867', 'User_2868', 'User_2870', 'User_2871', 'User_2873', 'User_2876', 'User_2883', 'User_2884', 'User_2885', 'User_2886', 'User_2887', 'User_2888', 'User_2889', 'User_2891', 'User_2892', 'User_2893', 'User_2894', 'User_2895', 'User_2896', 'User_2897', 'User_2898', 'User_2901', 'User_2903', 'User_2905', 'User_2907', 'User_2910', 'User_2912', 'User_2915', 'User_2917', 'User_2918', 'User_2919', 'User_2920', 'User_2921', 'User_2924', 'User_2925', 'User_2928', 'User_2929', 'User_2931', 'User_2934', 'User_2937', 'User_2939', 'User_2940', 'User_2941', 'User_2943', 'User_2944', 'User_2945', 'User_2948', 'User_2950', 'User_2951', 'User_2952', 'User_2955', 'User_2957', 'User_2959', 'User_2961', 'User_2962', 'User_2964', 'User_2965', 'User_2966', 'User_2967', 'User_2968', 'User_2971', 'User_2972', 'User_2975', 'User_2978', 'User_2980', 'User_2981', 'User_2982', 'User_2988', 'User_2989', 'User_2993', 'User_2995', 'User_2996', 'User_3000', 'User_3002', 'User_3005', 'User_3007', 'User_3009', 'User_3012', 'User_3016', 'User_3017', 'User_3018', 'User_3023', 'User_3025', 'User_3027', 'User_3029', 'User_3030', 'User_3033', 'User_3036', 'User_3040', 'User_3041', 'User_3042', 'User_3043', 'User_3045', 'User_3047', 'User_3048', 'User_3049', 'User_3051', 'User_3054', 'User_3055', 'User_3056', 'User_3057', 'User_3061', 'User_3063', 'User_3064', 'User_3065', 'User_3066', 'User_3067', 'User_3068', 'User_3070', 'User_3071', 'User_3074', 'User_3075', 'User_3077', 'User_3078', 'User_3080', 'User_3081', 'User_3083', 'User_3087', 'User_3088', 'User_3089', 'User_3090', 'User_3094', 'User_3099', 'User_3101', 'User_3103', 'User_3104', 'User_3105', 'User_3109', 'User_3110', 'User_3111', 'User_3112', 'User_3114', 'User_3119', 'User_3123', 'User_3124', 'User_3126', 'User_3127', 'User_3128', 'User_3131', 'User_3133', 'User_3135', 'User_3136', 'User_3137', 'User_3139', 'User_3140', 'User_3142', 'User_3144', 'User_3148', 'User_3149', 'User_3152', 'User_3158', 'User_3161', 'User_3163', 'User_3164', 'User_3171', 'User_3172', 'User_3174', 'User_3175', 'User_3178', 'User_3185', 'User_3187', 'User_3189', 'User_3191', 'User_3194', 'User_3197', 'User_3198', 'User_3199', 'User_3201', 'User_3202', 'User_3203', 'User_3204', 'User_3206', 'User_3207', 'User_3208', 'User_3209', 'User_3211', 'User_3212', 'User_3213', 'User_3214', 'User_3215', 'User_3216', 'User_3218', 'User_3220', 'User_3221', 'User_3223', 'User_3224', 'User_3229', 'User_3230', 'User_3232', 'User_3233', 'User_3234', 'User_3235', 'User_3239', 'User_3240', 'User_3241', 'User_3242', 'User_3246', 'User_3248', 'User_3250', 'User_3251', 'User_3252', 'User_3254', 'User_3255', 'User_3259', 'User_3261', 'User_3264', 'User_3266', 'User_3271', 'User_3273', 'User_3274', 'User_3282', 'User_3285', 'User_3289', 'User_3293', 'User_3294', 'User_3295', 'User_3298', 'User_3300', 'User_3301', 'User_3302', 'User_3303', 'User_3305', 'User_3306', 'User_3307', 'User_3308', 'User_3310', 'User_3312', 'User_3314', 'User_3316', 'User_3318', 'User_3320', 'User_3321', 'User_3322', 'User_3323', 'User_3327', 'User_3328', 'User_3329', 'User_3330', 'User_3331', 'User_3333', 'User_3334', 'User_3336', 'User_3339', 'User_3340', 'User_3343', 'User_3345', 'User_3346', 'User_3348', 'User_3352', 'User_3353', 'User_3354', 'User_3355', 'User_3357', 'User_3359', 'User_3360', 'User_3363', 'User_3364', 'User_3366', 'User_3367', 'User_3368', 'User_3369', 'User_3372', 'User_3373', 'User_3377', 'User_3378', 'User_3381', 'User_3386', 'User_3388', 'User_3391', 'User_3392', 'User_3393', 'User_3394', 'User_3399', 'User_3400', 'User_3401', 'User_3403', 'User_3404', 'User_3405', 'User_3406', 'User_3407', 'User_3409', 'User_3410', 'User_3412', 'User_3415', 'User_3419', 'User_3420', 'User_3421', 'User_3422', 'User_3425', 'User_3427', 'User_3428', 'User_3430', 'User_3434', 'User_3435', 'User_3436', 'User_3437', 'User_3438', 'User_3439', 'User_3440', 'User_3441', 'User_3445', 'User_3446', 'User_3449', 'User_3456', 'User_3459', 'User_3460', 'User_3461', 'User_3462', 'User_3463', 'User_3464', 'User_3465', 'User_3467', 'User_3468', 'User_3469', 'User_3470', 'User_3472', 'User_3477', 'User_3478', 'User_3481', 'User_3483', 'User_3487', 'User_3497', 'User_3501', 'User_3503', 'User_3504', 'User_3507', 'User_3508', 'User_3509', 'User_3510', 'User_3511', 'User_3513', 'User_3514', 'User_3515', 'User_3516', 'User_3517', 'User_3519', 'User_3522', 'User_3524', 'User_3525', 'User_3526', 'User_3527', 'User_3529', 'User_3530', 'User_3531', 'User_3534', 'User_3536', 'User_3538', 'User_3541', 'User_3542', 'User_3543', 'User_3545', 'User_3546', 'User_3547', 'User_3552', 'User_3554', 'User_3555', 'User_3556', 'User_3557', 'User_3559', 'User_3562', 'User_3564', 'User_3565', 'User_3566', 'User_3568', 'User_3569', 'User_3570', 'User_3572', 'User_3574', 'User_3575', 'User_3576', 'User_3578', 'User_3581', 'User_3583', 'User_3584', 'User_3585', 'User_3586', 'User_3587', 'User_3588', 'User_3589', 'User_3592', 'User_3594', 'User_3601', 'User_3602', 'User_3604', 'User_3605', 'User_3606', 'User_3607', 'User_3608', 'User_3609', 'User_3610', 'User_3611', 'User_3614', 'User_3615', 'User_3616', 'User_3619', 'User_3620', 'User_3623', 'User_3624', 'User_3626', 'User_3631', 'User_3633', 'User_3634', 'User_3636', 'User_3637', 'User_3638', 'User_3639', 'User_3640', 'User_3641', 'User_3642', 'User_3644', 'User_3645', 'User_3647', 'User_3649', 'User_3654', 'User_3655', 'User_3658', 'User_3659', 'User_3660', 'User_3662', 'User_3664', 'User_3666', 'User_3667', 'User_3669', 'User_3671', 'User_3673', 'User_3674', 'User_3676', 'User_3677', 'User_3679', 'User_3683', 'User_3687', 'User_3688', 'User_3701', 'User_3703', 'User_3706', 'User_3713', 'User_3716', 'User_3718', 'User_3723', 'User_3725', 'User_3726', 'User_3727', 'User_3730', 'User_3733', 'User_3736', 'User_3737', 'User_3738', 'User_3741', 'User_3742', 'User_3743', 'User_3745', 'User_3747', 'User_3748', 'User_3751', 'User_3752', 'User_3753', 'User_3755', 'User_3757', 'User_3758', 'User_3759', 'User_3760', 'User_3763', 'User_3765', 'User_3766', 'User_3772', 'User_3775', 'User_3777', 'User_3783', 'User_3787', 'User_3789', 'User_3790', 'User_3792', 'User_3794', 'User_3796', 'User_3797', 'User_3801', 'User_3806', 'User_3807', 'User_3808', 'User_3810', 'User_3811', 'User_3814', 'User_3816', 'User_3817', 'User_3818', 'User_3822', 'User_3824', 'User_3825', 'User_3826', 'User_3827', 'User_3829', 'User_3830', 'User_3832', 'User_3835', 'User_3837', 'User_3839', 'User_3840', 'User_3841', 'User_3842', 'User_3843', 'User_3846', 'User_3847', 'User_3848', 'User_3851', 'User_3852', 'User_3859', 'User_3860', 'User_3861', 'User_3864', 'User_3865', 'User_3867', 'User_3871', 'User_3874', 'User_3875', 'User_3881', 'User_3884', 'User_3886', 'User_3890', 'User_3892', 'User_3893', 'User_3894', 'User_3895', 'User_3896', 'User_3898', 'User_3903', 'User_3904', 'User_3905', 'User_3906', 'User_3910', 'User_3911', 'User_3912', 'User_3914', 'User_3916', 'User_3921', 'User_3923', 'User_3925', 'User_3926', 'User_3928', 'User_3929', 'User_3930', 'User_3938', 'User_3940', 'User_3942', 'User_3943', 'User_3944', 'User_3947', 'User_3948', 'User_3950', 'User_3952', 'User_3954', 'User_3960', 'User_3961', 'User_3962', 'User_3966', 'User_3967', 'User_3971', 'User_3972', 'User_3973', 'User_3974', 'User_3979', 'User_3981', 'User_3983', 'User_3987', 'User_3994', 'User_3995', 'User_4000', 'User_4001', 'User_4002', 'User_4005', 'User_4006', 'User_4007', 'User_4010', 'User_4012', 'User_4013', 'User_4014', 'User_4015', 'User_4017', 'User_4018', 'User_4021', 'User_4025', 'User_4027', 'User_4028', 'User_4031', 'User_4032', 'User_4033', 'User_4037', 'User_4038', 'User_4040', 'User_4041', 'User_4042', 'User_4044', 'User_4046', 'User_4048', 'User_4050', 'User_4056', 'User_4058', 'User_4060', 'User_4063', 'User_4065', 'User_4068', 'User_4069', 'User_4070', 'User_4072', 'User_4073', 'User_4074', 'User_4076', 'User_4077', 'User_4078', 'User_4080', 'User_4083', 'User_4084', 'User_4086', 'User_4087', 'User_4089', 'User_4090', 'User_4092', 'User_4093', 'User_4094', 'User_4096', 'User_4098', 'User_4108', 'User_4110', 'User_4111', 'User_4112', 'User_4114', 'User_4117', 'User_4120', 'User_4125', 'User_4128', 'User_4129', 'User_4135', 'User_4136', 'User_4139', 'User_4140', 'User_4141', 'User_4142', 'User_4146', 'User_4150', 'User_4152', 'User_4155', 'User_4156', 'User_4158', 'User_4160', 'User_4162', 'User_4163', 'User_4164', 'User_4165', 'User_4167', 'User_4168', 'User_4170', 'User_4173', 'User_4175', 'User_4181', 'User_4182', 'User_4184', 'User_4185', 'User_4188', 'User_4190', 'User_4193', 'User_4194', 'User_4196', 'User_4197', 'User_4200', 'User_4202', 'User_4204', 'User_4205', 'User_4206', 'User_4211', 'User_4212', 'User_4213', 'User_4214', 'User_4216', 'User_4219', 'User_4221', 'User_4222', 'User_4227', 'User_4228', 'User_4229', 'User_4232', 'User_4234', 'User_4235', 'User_4238', 'User_4239', 'User_4240', 'User_4241', 'User_4242', 'User_4243', 'User_4244', 'User_4248', 'User_4249', 'User_4250', 'User_4252', 'User_4253', 'User_4254', 'User_4257', 'User_4258', 'User_4263', 'User_4264', 'User_4265', 'User_4267', 'User_4270', 'User_4272', 'User_4275', 'User_4277', 'User_4278', 'User_4281', 'User_4283', 'User_4284', 'User_4287', 'User_4289', 'User_4291', 'User_4293', 'User_4294', 'User_4295', 'User_4299', 'User_4300', 'User_4302', 'User_4304', 'User_4305', 'User_4308', 'User_4312', 'User_4315', 'User_4317', 'User_4323', 'User_4324', 'User_4327', 'User_4329', 'User_4334', 'User_4336', 'User_4337', 'User_4338', 'User_4339', 'User_4340', 'User_4341', 'User_4343', 'User_4344', 'User_4351', 'User_4354', 'User_4355', 'User_4361', 'User_4362', 'User_4367', 'User_4368', 'User_4370', 'User_4372', 'User_4373', 'User_4374', 'User_4376', 'User_4377', 'User_4378', 'User_4379', 'User_4380', 'User_4381', 'User_4385', 'User_4390', 'User_4391', 'User_4393', 'User_4394', 'User_4399', 'User_4401', 'User_4402', 'User_4406', 'User_4409', 'User_4410', 'User_4412', 'User_4416', 'User_4417', 'User_4419', 'User_4423', 'User_4425', 'User_4426', 'User_4430', 'User_4432', 'User_4433', 'User_4436', 'User_4439', 'User_4441', 'User_4443', 'User_4444', 'User_4446', 'User_4447', 'User_4449', 'User_4451', 'User_4454', 'User_4455', 'User_4456', 'User_4457', 'User_4462', 'User_4463', 'User_4464', 'User_4465', 'User_4466', 'User_4467', 'User_4470', 'User_4472', 'User_4475', 'User_4485', 'User_4486', 'User_4488', 'User_4489', 'User_4491', 'User_4492', 'User_4493', 'User_4494', 'User_4495', 'User_4496', 'User_4497', 'User_4498', 'User_4499', 'User_4500', 'User_4501', 'User_4503', 'User_4505', 'User_4506', 'User_4507', 'User_4508', 'User_4512', 'User_4513', 'User_4519', 'User_4520', 'User_4521', 'User_4522', 'User_4523', 'User_4525', 'User_4526', 'User_4529', 'User_4530', 'User_4535', 'User_4538', 'User_4539', 'User_4542', 'User_4546', 'User_4549', 'User_4551', 'User_4552', 'User_4553', 'User_4554', 'User_4555', 'User_4559', 'User_4562', 'User_4564', 'User_4565', 'User_4566', 'User_4567', 'User_4568', 'User_4569', 'User_4570', 'User_4571', 'User_4573', 'User_4580', 'User_4584', 'User_4585', 'User_4586', 'User_4588', 'User_4591', 'User_4592', 'User_4593', 'User_4595', 'User_4596', 'User_4598', 'User_4600', 'User_4601', 'User_4602', 'User_4603', 'User_4604', 'User_4606', 'User_4607', 'User_4608', 'User_4611', 'User_4612', 'User_4613', 'User_4614', 'User_4616', 'User_4617', 'User_4618', 'User_4619', 'User_4620', 'User_4622', 'User_4627', 'User_4629', 'User_4634', 'User_4635', 'User_4636', 'User_4637', 'User_4638', 'User_4641', 'User_4642', 'User_4643', 'User_4644', 'User_4646', 'User_4648', 'User_4649', 'User_4650', 'User_4653', 'User_4654', 'User_4655', 'User_4656', 'User_4658', 'User_4660', 'User_4666', 'User_4671', 'User_4672', 'User_4674', 'User_4675', 'User_4677', 'User_4680', 'User_4681', 'User_4683', 'User_4684', 'User_4686', 'User_4689', 'User_4694', 'User_4697', 'User_4704', 'User_4705', 'User_4706', 'User_4709', 'User_4710', 'User_4714', 'User_4715', 'User_4716', 'User_4718', 'User_4719', 'User_4721', 'User_4724', 'User_4726', 'User_4727', 'User_4733', 'User_4735', 'User_4740', 'User_4743', 'User_4747', 'User_4749', 'User_4750', 'User_4754', 'User_4757', 'User_4759', 'User_4760', 'User_4761', 'User_4765', 'User_4766', 'User_4773', 'User_4776', 'User_4778', 'User_4780', 'User_4785', 'User_4786', 'User_4788', 'User_4790', 'User_4791', 'User_4795', 'User_4800', 'User_4802', 'User_4803', 'User_4806', 'User_4807', 'User_4813', 'User_4814', 'User_4816', 'User_4817', 'User_4818', 'User_4819', 'User_4821', 'User_4823', 'User_4824', 'User_4826', 'User_4830', 'User_4832', 'User_4834', 'User_4835', 'User_4836', 'User_4837', 'User_4841', 'User_4846', 'User_4847', 'User_4853', 'User_4855', 'User_4857', 'User_4862', 'User_4864', 'User_4866', 'User_4869', 'User_4872', 'User_4873', 'User_4874', 'User_4875', 'User_4876', 'User_4877', 'User_4879', 'User_4880', 'User_4883', 'User_4884', 'User_4886', 'User_4888', 'User_4889', 'User_4891', 'User_4892', 'User_4893', 'User_4895', 'User_4897', 'User_4898', 'User_4899', 'User_4901', 'User_4905', 'User_4906', 'User_4907', 'User_4908', 'User_4910', 'User_4912', 'User_4917', 'User_4919', 'User_4921', 'User_4927', 'User_4928', 'User_4930', 'User_4931', 'User_4932', 'User_4933', 'User_4935', 'User_4937', 'User_4938', 'User_4939', 'User_4940', 'User_4941', 'User_4942', 'User_4944', 'User_4950', 'User_4953', 'User_4957', 'User_4958', 'User_4959', 'User_4964', 'User_4966', 'User_4967', 'User_4968', 'User_4969', 'User_4973', 'User_4974', 'User_4975', 'User_4976', 'User_4980', 'User_4981', 'User_4983', 'User_4985', 'User_4986', 'User_4988', 'User_4989', 'User_4990', 'User_4993', 'User_4998', 'User_5002', 'User_5005', 'User_5006', 'User_5007', 'User_5010', 'User_5012', 'User_5014', 'User_5017', 'User_5018', 'User_5021', 'User_5024', 'User_5026', 'User_5028', 'User_5030', 'User_5032', 'User_5033', 'User_5037', 'User_5038', 'User_5040', 'User_5044', 'User_5045', 'User_5046', 'User_5048', 'User_5051', 'User_5052', 'User_5055', 'User_5059', 'User_5062', 'User_5064', 'User_5067', 'User_5068', 'User_5071', 'User_5072', 'User_5073', 'User_5074', 'User_5075', 'User_5077', 'User_5078', 'User_5082', 'User_5083', 'User_5084', 'User_5085', 'User_5089', 'User_5092', 'User_5093', 'User_5094', 'User_5095', 'User_5097', 'User_5098', 'User_5099', 'User_5100', 'User_5101', 'User_5102', 'User_5108', 'User_5110', 'User_5112', 'User_5113', 'User_5114', 'User_5119', 'User_5120', 'User_5123', 'User_5124', 'User_5127', 'User_5129', 'User_5133', 'User_5138', 'User_5140', 'User_5141', 'User_5144', 'User_5145', 'User_5147', 'User_5148', 'User_5150', 'User_5151', 'User_5153', 'User_5154', 'User_5155', 'User_5156', 'User_5159', 'User_5161', 'User_5162', 'User_5163', 'User_5164', 'User_5166', 'User_5167', 'User_5168', 'User_5170', 'User_5171', 'User_5173', 'User_5174', 'User_5175', 'User_5177', 'User_5180', 'User_5186', 'User_5187', 'User_5188', 'User_5197', 'User_5198', 'User_5203', 'User_5206', 'User_5208', 'User_5209', 'User_5210', 'User_5212', 'User_5214', 'User_5215', 'User_5217', 'User_5218', 'User_5219', 'User_5222', 'User_5224', 'User_5226', 'User_5228', 'User_5229', 'User_5232', 'User_5234', 'User_5239', 'User_5241', 'User_5242', 'User_5244', 'User_5246', 'User_5247', 'User_5248', 'User_5251', 'User_5253', 'User_5255', 'User_5258', 'User_5259', 'User_5263', 'User_5265', 'User_5266', 'User_5267', 'User_5270', 'User_5271', 'User_5272', 'User_5273', 'User_5274', 'User_5275', 'User_5276', 'User_5277', 'User_5278', 'User_5280', 'User_5281', 'User_5282', 'User_5287', 'User_5288', 'User_5291', 'User_5293', 'User_5294', 'User_5295', 'User_5296', 'User_5301', 'User_5302', 'User_5304', 'User_5306', 'User_5307', 'User_5309', 'User_5310', 'User_5311', 'User_5314', 'User_5315', 'User_5316', 'User_5317', 'User_5318', 'User_5319', 'User_5320', 'User_5321', 'User_5322', 'User_5324', 'User_5326', 'User_5328', 'User_5330', 'User_5331', 'User_5332', 'User_5334', 'User_5336', 'User_5337', 'User_5338', 'User_5339', 'User_5340', 'User_5347', 'User_5351', 'User_5352', 'User_5353', 'User_5354', 'User_5355', 'User_5356', 'User_5358', 'User_5359', 'User_5360', 'User_5362', 'User_5366', 'User_5368', 'User_5369', 'User_5370', 'User_5371', 'User_5372', 'User_5375', 'User_5377', 'User_5378', 'User_5379', 'User_5383', 'User_5384', 'User_5386', 'User_5388', 'User_5389', 'User_5391', 'User_5392', 'User_5396', 'User_5397', 'User_5399', 'User_5401', 'User_5404', 'User_5407', 'User_5409', 'User_5410', 'User_5412', 'User_5415', 'User_5416', 'User_5417', 'User_5418', 'User_5420', 'User_5424', 'User_5425', 'User_5427', 'User_5430', 'User_5431', 'User_5434', 'User_5435', 'User_5439', 'User_5442', 'User_5443', 'User_5447', 'User_5452', 'User_5454', 'User_5455', 'User_5460', 'User_5461', 'User_5463', 'User_5465', 'User_5468', 'User_5469', 'User_5470', 'User_5473', 'User_5475', 'User_5476', 'User_5478', 'User_5481', 'User_5484', 'User_5486', 'User_5488', 'User_5489', 'User_5493', 'User_5495', 'User_5499', 'User_5500', 'User_5501', 'User_5504', 'User_5505', 'User_5506', 'User_5507', 'User_5508', 'User_5510', 'User_5522', 'User_5523', 'User_5524', 'User_5525', 'User_5526', 'User_5527', 'User_5531', 'User_5532', 'User_5534', 'User_5535', 'User_5538', 'User_5539', 'User_5540', 'User_5542', 'User_5543', 'User_5545', 'User_5547', 'User_5548', 'User_5550', 'User_5551', 'User_5552', 'User_5555', 'User_5556', 'User_5559', 'User_5562', 'User_5563', 'User_5564', 'User_5566', 'User_5568', 'User_5572', 'User_5576', 'User_5580', 'User_5584', 'User_5585', 'User_5587', 'User_5588', 'User_5589', 'User_5591', 'User_5593', 'User_5595', 'User_5596', 'User_5597', 'User_5603', 'User_5605', 'User_5606', 'User_5608', 'User_5610', 'User_5611', 'User_5612', 'User_5613', 'User_5614', 'User_5615', 'User_5616', 'User_5617', 'User_5623', 'User_5624', 'User_5625', 'User_5627', 'User_5628', 'User_5633', 'User_5634', 'User_5635', 'User_5636', 'User_5637', 'User_5643', 'User_5644', 'User_5645', 'User_5646', 'User_5647', 'User_5649', 'User_5650', 'User_5653', 'User_5655', 'User_5656', 'User_5658', 'User_5661', 'User_5662', 'User_5663', 'User_5665', 'User_5667', 'User_5668', 'User_5672', 'User_5673', 'User_5675', 'User_5676', 'User_5677', 'User_5678', 'User_5681', 'User_5683', 'User_5684', 'User_5690', 'User_5692', 'User_5694', 'User_5695', 'User_5697', 'User_5699', 'User_5700', 'User_5702', 'User_5703', 'User_5704', 'User_5706', 'User_5707', 'User_5709', 'User_5710', 'User_5713', 'User_5717', 'User_5718', 'User_5720', 'User_5724', 'User_5727', 'User_5728', 'User_5729', 'User_5730', 'User_5731', 'User_5733', 'User_5736', 'User_5742', 'User_5744', 'User_5745', 'User_5746', 'User_5747', 'User_5748', 'User_5752', 'User_5754', 'User_5758', 'User_5760', 'User_5765', 'User_5767', 'User_5768', 'User_5770', 'User_5771', 'User_5772', 'User_5773', 'User_5774', 'User_5775', 'User_5777', 'User_5778', 'User_5779', 'User_5782', 'User_5783', 'User_5787', 'User_5788', 'User_5791', 'User_5796', 'User_5797', 'User_5799', 'User_5800', 'User_5802', 'User_5804', 'User_5805', 'User_5806', 'User_5808', 'User_5810', 'User_5812', 'User_5814', 'User_5819', 'User_5823', 'User_5827', 'User_5828', 'User_5832', 'User_5833', 'User_5835', 'User_5836', 'User_5837', 'User_5838', 'User_5839', 'User_5841', 'User_5842', 'User_5843', 'User_5847', 'User_5849', 'User_5852', 'User_5856', 'User_5857', 'User_5858', 'User_5860', 'User_5861', 'User_5862', 'User_5864', 'User_5865', 'User_5873', 'User_5874', 'User_5875', 'User_5878', 'User_5879', 'User_5880', 'User_5881', 'User_5882', 'User_5886', 'User_5888', 'User_5895', 'User_5897', 'User_5898', 'User_5899', 'User_5901', 'User_5904', 'User_5907', 'User_5910', 'User_5913', 'User_5914', 'User_5917', 'User_5918', 'User_5919', 'User_5922', 'User_5923', 'User_5924', 'User_5926', 'User_5928', 'User_5929', 'User_5930', 'User_5934', 'User_5937', 'User_5945', 'User_5947', 'User_5948', 'User_5950', 'User_5951', 'User_5952', 'User_5956', 'User_5957', 'User_5958', 'User_5959', 'User_5964', 'User_5966', 'User_5968', 'User_5969', 'User_5975', 'User_5977', 'User_5978', 'User_5979', 'User_5980', 'User_5982', 'User_5983', 'User_5984', 'User_5986', 'User_5987', 'User_5989', 'User_5991', 'User_5992', 'User_5993', 'User_5994', 'User_5997', 'User_5998', 'User_5999', 'User_6000', 'User_6001', 'User_6003', 'User_6005', 'User_6006', 'User_6009', 'User_6010', 'User_6011', 'User_6013', 'User_6014', 'User_6015', 'User_6017', 'User_6019', 'User_6024', 'User_6025', 'User_6028', 'User_6030', 'User_6031', 'User_6032', 'User_6033', 'User_6034', 'User_6035', 'User_6036', 'User_6037', 'User_6038', 'User_6040', 'User_6041', 'User_6042', 'User_6045', 'User_6046', 'User_6047', 'User_6049', 'User_6050', 'User_6051', 'User_6052', 'User_6056', 'User_6057', 'User_6058', 'User_6059', 'User_6062', 'User_6064', 'User_6065', 'User_6066', 'User_6067', 'User_6068', 'User_6069', 'User_6070', 'User_6073', 'User_6074', 'User_6076', 'User_6081', 'User_6083', 'User_6088', 'User_6089', 'User_6090', 'User_6091', 'User_6097', 'User_6098', 'User_6102', 'User_6104', 'User_6106', 'User_6108', 'User_6111', 'User_6113', 'User_6119', 'User_6120', 'User_6122', 'User_6123', 'User_6124', 'User_6125', 'User_6127', 'User_6130', 'User_6135', 'User_6138', 'User_6139', 'User_6142', 'User_6143', 'User_6145', 'User_6148', 'User_6149', 'User_6153', 'User_6156', 'User_6158', 'User_6160', 'User_6161', 'User_6162', 'User_6166', 'User_6167', 'User_6168', 'User_6169', 'User_6170', 'User_6171', 'User_6172', 'User_6174', 'User_6175', 'User_6177', 'User_6178', 'User_6182', 'User_6183', 'User_6184', 'User_6185', 'User_6186', 'User_6189', 'User_6192', 'User_6193', 'User_6194', 'User_6197', 'User_6198', 'User_6199', 'User_6201', 'User_6202', 'User_6204', 'User_6205', 'User_6206', 'User_6207', 'User_6210', 'User_6211', 'User_6212', 'User_6213', 'User_6214', 'User_6218', 'User_6219', 'User_6220', 'User_6221', 'User_6222', 'User_6223', 'User_6225', 'User_6226', 'User_6227', 'User_6229', 'User_6230', 'User_6232', 'User_6233', 'User_6234', 'User_6239', 'User_6241', 'User_6246', 'User_6247', 'User_6248', 'User_6252', 'User_6256', 'User_6258', 'User_6260', 'User_6262', 'User_6263', 'User_6264', 'User_6265', 'User_6267', 'User_6269', 'User_6276', 'User_6277', 'User_6279', 'User_6283', 'User_6284', 'User_6287', 'User_6288', 'User_6290', 'User_6291', 'User_6292', 'User_6294', 'User_6295', 'User_6296', 'User_6297', 'User_6299', 'User_6301', 'User_6303', 'User_6304', 'User_6305', 'User_6306', 'User_6307', 'User_6309', 'User_6310', 'User_6311', 'User_6312', 'User_6314', 'User_6317', 'User_6319', 'User_6323', 'User_6326', 'User_6328', 'User_6333', 'User_6335', 'User_6337', 'User_6338', 'User_6339', 'User_6340', 'User_6341', 'User_6342', 'User_6343', 'User_6348', 'User_6355', 'User_6356', 'User_6360', 'User_6361', 'User_6362', 'User_6365', 'User_6366', 'User_6370', 'User_6371', 'User_6372', 'User_6373', 'User_6375', 'User_6377', 'User_6378', 'User_6380', 'User_6382', 'User_6383', 'User_6385', 'User_6387', 'User_6388', 'User_6389', 'User_6391', 'User_6392', 'User_6393', 'User_6394', 'User_6395', 'User_6397', 'User_6400', 'User_6402', 'User_6403', 'User_6405', 'User_6406', 'User_6408', 'User_6411', 'User_6414', 'User_6415', 'User_6417', 'User_6418', 'User_6419', 'User_6420', 'User_6423', 'User_6426', 'User_6428', 'User_6429', 'User_6430', 'User_6433', 'User_6434', 'User_6436', 'User_6439', 'User_6445', 'User_6447', 'User_6448', 'User_6451', 'User_6454', 'User_6457', 'User_6458', 'User_6460', 'User_6461', 'User_6462', 'User_6465', 'User_6467', 'User_6469', 'User_6470', 'User_6471', 'User_6472', 'User_6473', 'User_6475', 'User_6478', 'User_6480', 'User_6481', 'User_6483', 'User_6484', 'User_6488', 'User_6490', 'User_6491', 'User_6493', 'User_6494', 'User_6495', 'User_6498', 'User_6500', 'User_6501', 'User_6503', 'User_6505', 'User_6507', 'User_6508', 'User_6509', 'User_6510', 'User_6511', 'User_6513', 'User_6514', 'User_6516', 'User_6517', 'User_6520', 'User_6521', 'User_6526', 'User_6529', 'User_6530', 'User_6531', 'User_6532', 'User_6533', 'User_6534', 'User_6535', 'User_6536', 'User_6539', 'User_6540', 'User_6542', 'User_6543', 'User_6545', 'User_6547', 'User_6549', 'User_6550', 'User_6551', 'User_6552', 'User_6555', 'User_6556', 'User_6557', 'User_6560', 'User_6562', 'User_6564', 'User_6565', 'User_6567', 'User_6568', 'User_6569', 'User_6570', 'User_6572', 'User_6574', 'User_6578', 'User_6579', 'User_6581', 'User_6586', 'User_6588', 'User_6590', 'User_6592', 'User_6593', 'User_6595', 'User_6596', 'User_6597', 'User_6599', 'User_6600', 'User_6601', 'User_6602', 'User_6603', 'User_6604', 'User_6605', 'User_6608', 'User_6612', 'User_6613', 'User_6614', 'User_6617', 'User_6618', 'User_6620', 'User_6621', 'User_6622', 'User_6624', 'User_6626', 'User_6627', 'User_6631', 'User_6632', 'User_6634', 'User_6635', 'User_6637', 'User_6639', 'User_6642', 'User_6644', 'User_6647', 'User_6650', 'User_6651', 'User_6654', 'User_6657', 'User_6658', 'User_6659', 'User_6660', 'User_6662', 'User_6664', 'User_6665', 'User_6666', 'User_6667', 'User_6668', 'User_6669', 'User_6670', 'User_6671', 'User_6672', 'User_6673', 'User_6674', 'User_6681', 'User_6683', 'User_6684', 'User_6686', 'User_6688', 'User_6689', 'User_6690', 'User_6694', 'User_6696', 'User_6697', 'User_6702', 'User_6707', 'User_6708', 'User_6710', 'User_6711', 'User_6717', 'User_6719', 'User_6720', 'User_6726', 'User_6729', 'User_6731', 'User_6732', 'User_6734', 'User_6737', 'User_6738', 'User_6739', 'User_6740', 'User_6741', 'User_6743', 'User_6747', 'User_6749', 'User_6751', 'User_6752', 'User_6753', 'User_6754', 'User_6758', 'User_6759', 'User_6760', 'User_6761', 'User_6762', 'User_6763', 'User_6764', 'User_6765', 'User_6766', 'User_6767', 'User_6769', 'User_6770', 'User_6771', 'User_6773', 'User_6774', 'User_6777', 'User_6778', 'User_6782', 'User_6784', 'User_6786', 'User_6788', 'User_6790', 'User_6791', 'User_6792', 'User_6796', 'User_6797', 'User_6798', 'User_6800', 'User_6801', 'User_6805', 'User_6807', 'User_6808', 'User_6810', 'User_6811', 'User_6812', 'User_6813', 'User_6814', 'User_6815', 'User_6816', 'User_6817', 'User_6818', 'User_6819', 'User_6821', 'User_6823', 'User_6824', 'User_6825', 'User_6826', 'User_6827', 'User_6828', 'User_6830', 'User_6833', 'User_6836', 'User_6838', 'User_6840', 'User_6841', 'User_6842', 'User_6843', 'User_6845', 'User_6846', 'User_6847', 'User_6849', 'User_6850', 'User_6852', 'User_6855', 'User_6856', 'User_6857', 'User_6858', 'User_6861', 'User_6864', 'User_6867', 'User_6868', 'User_6869', 'User_6871', 'User_6872', 'User_6876', 'User_6877', 'User_6878', 'User_6879', 'User_6880', 'User_6881', 'User_6884', 'User_6885', 'User_6886', 'User_6887', 'User_6889', 'User_6893', 'User_6894', 'User_6898', 'User_6899', 'User_6900', 'User_6904', 'User_6907', 'User_6908', 'User_6911', 'User_6913', 'User_6915', 'User_6916', 'User_6919', 'User_6920', 'User_6921', 'User_6923', 'User_6926', 'User_6930', 'User_6932', 'User_6933', 'User_6934', 'User_6935', 'User_6937', 'User_6939', 'User_6940', 'User_6942', 'User_6943', 'User_6944', 'User_6947', 'User_6952', 'User_6955', 'User_6957', 'User_6959', 'User_6960', 'User_6963', 'User_6964', 'User_6966', 'User_6967', 'User_6970', 'User_6972', 'User_6974', 'User_6975', 'User_6976', 'User_6979', 'User_6981', 'User_6985', 'User_6987', 'User_6989', 'User_6990', 'User_6991', 'User_6992', 'User_6995', 'User_6996', 'User_6998', 'User_6999', 'User_7000', 'User_7002', 'User_7003', 'User_7004', 'User_7006', 'User_7012', 'User_7014', 'User_7017', 'User_7018', 'User_7019', 'User_7020', 'User_7021', 'User_7023', 'User_7024', 'User_7025', 'User_7027', 'User_7028', 'User_7030', 'User_7033', 'User_7034', 'User_7037', 'User_7038', 'User_7039', 'User_7041', 'User_7044', 'User_7047', 'User_7048', 'User_7049', 'User_7052', 'User_7053', 'User_7054', 'User_7056', 'User_7057', 'User_7058', 'User_7060', 'User_7061', 'User_7062', 'User_7065', 'User_7067', 'User_7068', 'User_7070', 'User_7073', 'User_7075', 'User_7077', 'User_7079', 'User_7080', 'User_7084', 'User_7085', 'User_7086', 'User_7087', 'User_7089', 'User_7090', 'User_7094', 'User_7096', 'User_7102', 'User_7103', 'User_7104', 'User_7107', 'User_7109', 'User_7110', 'User_7111', 'User_7113', 'User_7117', 'User_7118', 'User_7119', 'User_7120', 'User_7121', 'User_7124', 'User_7125', 'User_7126', 'User_7127', 'User_7128', 'User_7129', 'User_7131', 'User_7132', 'User_7135', 'User_7136', 'User_7138', 'User_7139', 'User_7141', 'User_7142', 'User_7145', 'User_7146', 'User_7147', 'User_7150', 'User_7151', 'User_7152', 'User_7154', 'User_7159', 'User_7160', 'User_7163', 'User_7164', 'User_7165', 'User_7167', 'User_7168', 'User_7169', 'User_7177', 'User_7178', 'User_7188', 'User_7189', 'User_7191', 'User_7192', 'User_7194', 'User_7195', 'User_7199', 'User_7200', 'User_7201', 'User_7203', 'User_7204', 'User_7205', 'User_7208', 'User_7209', 'User_7210', 'User_7211', 'User_7214', 'User_7218', 'User_7220', 'User_7221', 'User_7222', 'User_7225', 'User_7226', 'User_7229', 'User_7230', 'User_7232', 'User_7234', 'User_7235', 'User_7241', 'User_7243', 'User_7244', 'User_7246', 'User_7249', 'User_7251', 'User_7253', 'User_7254', 'User_7261', 'User_7263', 'User_7271', 'User_7272', 'User_7274', 'User_7276', 'User_7279', 'User_7282', 'User_7283', 'User_7288', 'User_7289', 'User_7293', 'User_7296', 'User_7299', 'User_7300', 'User_7302', 'User_7305', 'User_7307', 'User_7309', 'User_7312', 'User_7314', 'User_7315', 'User_7316', 'User_7317', 'User_7319', 'User_7320', 'User_7321', 'User_7322', 'User_7323', 'User_7328', 'User_7329', 'User_7331', 'User_7332', 'User_7333', 'User_7334', 'User_7336', 'User_7339', 'User_7342', 'User_7343', 'User_7345', 'User_7346', 'User_7347', 'User_7348', 'User_7350', 'User_7352', 'User_7355', 'User_7359', 'User_7363', 'User_7365', 'User_7366', 'User_7367', 'User_7369', 'User_7371', 'User_7373', 'User_7374', 'User_7377', 'User_7381', 'User_7387', 'User_7390', 'User_7391', 'User_7395', 'User_7398', 'User_7403', 'User_7404', 'User_7405', 'User_7406', 'User_7407', 'User_7409', 'User_7410', 'User_7411', 'User_7412', 'User_7415', 'User_7416', 'User_7420', 'User_7426', 'User_7427', 'User_7428', 'User_7429', 'User_7431', 'User_7432', 'User_7434', 'User_7435', 'User_7436', 'User_7439', 'User_7442', 'User_7443', 'User_7446', 'User_7447', 'User_7451', 'User_7453', 'User_7454', 'User_7455', 'User_7458', 'User_7459', 'User_7460', 'User_7462', 'User_7465', 'User_7466', 'User_7467', 'User_7470', 'User_7471', 'User_7472', 'User_7475', 'User_7476', 'User_7478', 'User_7482', 'User_7484', 'User_7486', 'User_7487', 'User_7492', 'User_7493', 'User_7494', 'User_7496', 'User_7497', 'User_7498', 'User_7499', 'User_7504', 'User_7507', 'User_7508', 'User_7509', 'User_7513', 'User_7514', 'User_7516', 'User_7518', 'User_7520', 'User_7521', 'User_7522', 'User_7523', 'User_7524', 'User_7530', 'User_7531', 'User_7532', 'User_7534', 'User_7541', 'User_7543', 'User_7545', 'User_7550', 'User_7552', 'User_7553', 'User_7555', 'User_7557', 'User_7559', 'User_7560', 'User_7562', 'User_7563', 'User_7565', 'User_7566', 'User_7570', 'User_7572', 'User_7574', 'User_7577', 'User_7578', 'User_7581', 'User_7590', 'User_7593', 'User_7594', 'User_7605', 'User_7606', 'User_7608', 'User_7610', 'User_7612', 'User_7614', 'User_7619', 'User_7621', 'User_7622', 'User_7624', 'User_7627', 'User_7630', 'User_7631', 'User_7632', 'User_7633', 'User_7635', 'User_7636', 'User_7643', 'User_7644', 'User_7645', 'User_7646', 'User_7648', 'User_7650', 'User_7651', 'User_7652', 'User_7658', 'User_7659', 'User_7660', 'User_7664', 'User_7665', 'User_7669', 'User_7670', 'User_7671', 'User_7672', 'User_7675', 'User_7677', 'User_7679', 'User_7681', 'User_7683', 'User_7687', 'User_7689', 'User_7692', 'User_7693', 'User_7694', 'User_7695', 'User_7697', 'User_7699', 'User_7700', 'User_7701', 'User_7702', 'User_7704', 'User_7706', 'User_7707', 'User_7709', 'User_7711', 'User_7712', 'User_7713', 'User_7714', 'User_7715', 'User_7717', 'User_7719', 'User_7722', 'User_7723', 'User_7724', 'User_7725', 'User_7728', 'User_7729', 'User_7731', 'User_7733', 'User_7740', 'User_7743', 'User_7744', 'User_7746', 'User_7750', 'User_7751', 'User_7753', 'User_7754', 'User_7756', 'User_7757', 'User_7758', 'User_7766', 'User_7767', 'User_7768', 'User_7774', 'User_7775', 'User_7776', 'User_7780', 'User_7781', 'User_7784', 'User_7788', 'User_7791', 'User_7793', 'User_7794', 'User_7795', 'User_7796', 'User_7797', 'User_7800', 'User_7802', 'User_7803', 'User_7804', 'User_7805', 'User_7806', 'User_7808', 'User_7809', 'User_7811', 'User_7812', 'User_7813', 'User_7815', 'User_7818', 'User_7824', 'User_7826', 'User_7827', 'User_7828', 'User_7829', 'User_7830', 'User_7831', 'User_7832', 'User_7834', 'User_7835', 'User_7838', 'User_7842', 'User_7847', 'User_7849', 'User_7850', 'User_7852', 'User_7853', 'User_7854', 'User_7857', 'User_7860', 'User_7864', 'User_7865', 'User_7872', 'User_7874', 'User_7875', 'User_7880', 'User_7881', 'User_7884', 'User_7886', 'User_7889', 'User_7892', 'User_7893', 'User_7897', 'User_7904', 'User_7905', 'User_7906', 'User_7907', 'User_7914', 'User_7917', 'User_7918', 'User_7921', 'User_7922', 'User_7929', 'User_7932', 'User_7940', 'User_7941', 'User_7944', 'User_7947', 'User_7949', 'User_7950', 'User_7951', 'User_7954', 'User_7955', 'User_7956', 'User_7957', 'User_7958', 'User_7959', 'User_7961', 'User_7963', 'User_7964', 'User_7965', 'User_7969', 'User_7974', 'User_7975', 'User_7976', 'User_7977', 'User_7978', 'User_7979', 'User_7981', 'User_7985', 'User_7987', 'User_7992', 'User_7994', 'User_7999', 'User_8000', 'User_8007', 'User_8008', 'User_8010', 'User_8012', 'User_8013', 'User_8015', 'User_8016', 'User_8019', 'User_8020', 'User_8024', 'User_8025', 'User_8026', 'User_8027', 'User_8028', 'User_8030', 'User_8031', 'User_8032', 'User_8037', 'User_8038', 'User_8040', 'User_8041', 'User_8044', 'User_8045', 'User_8046', 'User_8047', 'User_8048', 'User_8049', 'User_8050', 'User_8051', 'User_8052', 'User_8054', 'User_8055', 'User_8056', 'User_8060', 'User_8062', 'User_8063', 'User_8064', 'User_8065', 'User_8066', 'User_8067', 'User_8069', 'User_8070', 'User_8072', 'User_8076', 'User_8078', 'User_8079', 'User_8083', 'User_8087', 'User_8089', 'User_8093', 'User_8095', 'User_8097', 'User_8100', 'User_8101', 'User_8102', 'User_8106', 'User_8111', 'User_8112', 'User_8113', 'User_8114', 'User_8117', 'User_8120', 'User_8121', 'User_8122', 'User_8123', 'User_8125', 'User_8126', 'User_8132', 'User_8133', 'User_8134', 'User_8137', 'User_8140', 'User_8143', 'User_8144', 'User_8145', 'User_8147', 'User_8148', 'User_8149', 'User_8150', 'User_8151', 'User_8152', 'User_8154', 'User_8155', 'User_8156', 'User_8161', 'User_8162', 'User_8166', 'User_8167', 'User_8169', 'User_8171', 'User_8175', 'User_8176', 'User_8178', 'User_8181', 'User_8182', 'User_8183', 'User_8185', 'User_8186', 'User_8187', 'User_8191', 'User_8192', 'User_8193', 'User_8195', 'User_8200', 'User_8202', 'User_8203', 'User_8205', 'User_8206', 'User_8208', 'User_8209', 'User_8210', 'User_8214', 'User_8217', 'User_8218', 'User_8219', 'User_8224', 'User_8225', 'User_8226', 'User_8229', 'User_8231', 'User_8232', 'User_8234', 'User_8237', 'User_8238', 'User_8239', 'User_8240', 'User_8244', 'User_8245', 'User_8246', 'User_8247', 'User_8248', 'User_8249', 'User_8250', 'User_8252', 'User_8253', 'User_8255', 'User_8256', 'User_8257', 'User_8263', 'User_8264', 'User_8265', 'User_8268', 'User_8271', 'User_8273', 'User_8274', 'User_8278', 'User_8279', 'User_8281', 'User_8283', 'User_8287', 'User_8288', 'User_8289', 'User_8290', 'User_8291', 'User_8292', 'User_8294', 'User_8296', 'User_8297', 'User_8302', 'User_8303', 'User_8304', 'User_8305', 'User_8306', 'User_8308', 'User_8309', 'User_8311', 'User_8312', 'User_8313', 'User_8314', 'User_8318', 'User_8321', 'User_8322', 'User_8324', 'User_8325', 'User_8326', 'User_8333', 'User_8336', 'User_8339', 'User_8340', 'User_8341', 'User_8342', 'User_8343', 'User_8344', 'User_8347', 'User_8348', 'User_8350', 'User_8352', 'User_8354', 'User_8356', 'User_8358', 'User_8362', 'User_8363', 'User_8364', 'User_8365', 'User_8366', 'User_8367', 'User_8368', 'User_8379', 'User_8381', 'User_8383', 'User_8385', 'User_8388', 'User_8389', 'User_8390', 'User_8395', 'User_8396', 'User_8399', 'User_8400', 'User_8401', 'User_8402', 'User_8403', 'User_8404', 'User_8405', 'User_8407', 'User_8408', 'User_8412', 'User_8413', 'User_8414', 'User_8415', 'User_8417', 'User_8419', 'User_8426', 'User_8427', 'User_8428', 'User_8429', 'User_8432', 'User_8434', 'User_8435', 'User_8437', 'User_8438', 'User_8441', 'User_8442', 'User_8443', 'User_8445', 'User_8447', 'User_8448', 'User_8450', 'User_8452', 'User_8454', 'User_8458', 'User_8459', 'User_8461', 'User_8463', 'User_8465', 'User_8468', 'User_8470', 'User_8471', 'User_8474', 'User_8476', 'User_8477', 'User_8479', 'User_8480', 'User_8482', 'User_8485', 'User_8486', 'User_8488', 'User_8489', 'User_8490', 'User_8491', 'User_8494', 'User_8495', 'User_8502', 'User_8503', 'User_8504', 'User_8506', 'User_8510', 'User_8512', 'User_8513', 'User_8516', 'User_8519', 'User_8521', 'User_8522', 'User_8524', 'User_8529', 'User_8531', 'User_8532', 'User_8533', 'User_8535', 'User_8536', 'User_8538', 'User_8540', 'User_8542', 'User_8543', 'User_8544', 'User_8546', 'User_8547', 'User_8549', 'User_8551', 'User_8553', 'User_8554', 'User_8558', 'User_8559', 'User_8561', 'User_8562', 'User_8563', 'User_8566', 'User_8572', 'User_8573', 'User_8575', 'User_8576', 'User_8577', 'User_8579', 'User_8580', 'User_8581', 'User_8583', 'User_8584', 'User_8587', 'User_8588', 'User_8591', 'User_8593', 'User_8595', 'User_8596', 'User_8599', 'User_8600', 'User_8601', 'User_8602', 'User_8603', 'User_8605', 'User_8606', 'User_8607', 'User_8608', 'User_8609', 'User_8613', 'User_8614', 'User_8615', 'User_8617', 'User_8619', 'User_8620', 'User_8625', 'User_8628', 'User_8629', 'User_8630', 'User_8633', 'User_8635', 'User_8637', 'User_8638', 'User_8639', 'User_8640', 'User_8641', 'User_8642', 'User_8643', 'User_8644', 'User_8646', 'User_8647', 'User_8652', 'User_8653', 'User_8654', 'User_8657', 'User_8662', 'User_8663', 'User_8664', 'User_8666', 'User_8667', 'User_8671', 'User_8672', 'User_8674', 'User_8675', 'User_8676', 'User_8679', 'User_8683', 'User_8684', 'User_8685', 'User_8686', 'User_8687', 'User_8690', 'User_8691', 'User_8692', 'User_8693', 'User_8694', 'User_8696', 'User_8697', 'User_8699', 'User_8701', 'User_8702', 'User_8705', 'User_8706', 'User_8707', 'User_8708', 'User_8712', 'User_8713', 'User_8715', 'User_8718', 'User_8720', 'User_8721', 'User_8724', 'User_8725', 'User_8726', 'User_8728', 'User_8729', 'User_8731', 'User_8732', 'User_8733', 'User_8734', 'User_8736', 'User_8737', 'User_8739', 'User_8741', 'User_8742', 'User_8744', 'User_8746', 'User_8747', 'User_8748', 'User_8750', 'User_8751', 'User_8753', 'User_8754', 'User_8755', 'User_8756', 'User_8757', 'User_8758', 'User_8759', 'User_8761', 'User_8762', 'User_8765', 'User_8766', 'User_8767', 'User_8769', 'User_8771', 'User_8772', 'User_8774', 'User_8775', 'User_8776', 'User_8777', 'User_8780', 'User_8781', 'User_8785', 'User_8789', 'User_8790', 'User_8791', 'User_8792', 'User_8793', 'User_8795', 'User_8796', 'User_8797', 'User_8799', 'User_8801', 'User_8803', 'User_8804', 'User_8807', 'User_8808', 'User_8815', 'User_8817', 'User_8818', 'User_8819', 'User_8822', 'User_8824', 'User_8825', 'User_8832', 'User_8833', 'User_8834', 'User_8838', 'User_8839', 'User_8841', 'User_8844', 'User_8847', 'User_8848', 'User_8849', 'User_8854', 'User_8855', 'User_8857', 'User_8859', 'User_8861', 'User_8864', 'User_8867', 'User_8868', 'User_8869', 'User_8870', 'User_8871', 'User_8872', 'User_8873', 'User_8876', 'User_8877', 'User_8878', 'User_8880', 'User_8883', 'User_8884', 'User_8885', 'User_8886', 'User_8892', 'User_8895', 'User_8896', 'User_8897', 'User_8898', 'User_8899', 'User_8902', 'User_8903', 'User_8905', 'User_8906', 'User_8907', 'User_8910', 'User_8915', 'User_8920', 'User_8921', 'User_8922', 'User_8923', 'User_8932', 'User_8934', 'User_8935', 'User_8936', 'User_8937', 'User_8939', 'User_8944', 'User_8945', 'User_8946', 'User_8947', 'User_8948', 'User_8949', 'User_8950', 'User_8951', 'User_8953', 'User_8954', 'User_8955', 'User_8957', 'User_8958', 'User_8959', 'User_8961', 'User_8963', 'User_8964', 'User_8966', 'User_8968', 'User_8976', 'User_8977', 'User_8978', 'User_8981', 'User_8984', 'User_8985', 'User_8986', 'User_8987', 'User_8988', 'User_8990', 'User_8992', 'User_8999', 'User_9000', 'User_9004', 'User_9011', 'User_9012', 'User_9013', 'User_9016', 'User_9017', 'User_9018', 'User_9020', 'User_9022', 'User_9023', 'User_9025', 'User_9029', 'User_9031', 'User_9034', 'User_9035', 'User_9036', 'User_9037', 'User_9038', 'User_9041', 'User_9043', 'User_9044', 'User_9046', 'User_9049', 'User_9052', 'User_9053', 'User_9054', 'User_9055', 'User_9057', 'User_9065', 'User_9067', 'User_9069', 'User_9071', 'User_9072', 'User_9074', 'User_9075', 'User_9076', 'User_9077', 'User_9079', 'User_9080', 'User_9081', 'User_9082', 'User_9085', 'User_9086', 'User_9088', 'User_9090', 'User_9091', 'User_9092', 'User_9093', 'User_9094', 'User_9096', 'User_9097', 'User_9098', 'User_9099', 'User_9102', 'User_9108', 'User_9109', 'User_9111', 'User_9115', 'User_9116', 'User_9117', 'User_9118', 'User_9120', 'User_9121', 'User_9123', 'User_9124', 'User_9125', 'User_9128', 'User_9130', 'User_9132', 'User_9133', 'User_9134', 'User_9135', 'User_9136', 'User_9137', 'User_9141', 'User_9142', 'User_9143', 'User_9144', 'User_9147', 'User_9149', 'User_9150', 'User_9151', 'User_9152', 'User_9155', 'User_9157', 'User_9158', 'User_9161', 'User_9162', 'User_9163', 'User_9164', 'User_9166', 'User_9168', 'User_9169', 'User_9170', 'User_9172', 'User_9174', 'User_9175', 'User_9176', 'User_9178', 'User_9179', 'User_9183', 'User_9185', 'User_9187', 'User_9190', 'User_9191', 'User_9192', 'User_9193', 'User_9196', 'User_9199', 'User_9200', 'User_9202', 'User_9203', 'User_9204', 'User_9205', 'User_9206', 'User_9210', 'User_9211', 'User_9213', 'User_9214', 'User_9215', 'User_9216', 'User_9217', 'User_9219', 'User_9220', 'User_9221', 'User_9224', 'User_9225', 'User_9226', 'User_9230', 'User_9232', 'User_9233', 'User_9234', 'User_9236', 'User_9238', 'User_9240', 'User_9241', 'User_9242', 'User_9243', 'User_9244', 'User_9246', 'User_9247', 'User_9249', 'User_9250', 'User_9251', 'User_9252', 'User_9255', 'User_9256', 'User_9257', 'User_9259', 'User_9260', 'User_9261', 'User_9263', 'User_9264', 'User_9267', 'User_9269', 'User_9270', 'User_9271', 'User_9272', 'User_9275', 'User_9276', 'User_9277', 'User_9281', 'User_9287', 'User_9289', 'User_9290', 'User_9291', 'User_9292', 'User_9293', 'User_9294', 'User_9296', 'User_9297', 'User_9299', 'User_9301', 'User_9304', 'User_9305', 'User_9307', 'User_9308', 'User_9310', 'User_9315', 'User_9318', 'User_9319', 'User_9320', 'User_9321', 'User_9323', 'User_9324', 'User_9327', 'User_9328', 'User_9329', 'User_9330', 'User_9333', 'User_9336', 'User_9338', 'User_9340', 'User_9343', 'User_9344', 'User_9346', 'User_9347', 'User_9349', 'User_9350', 'User_9354', 'User_9355', 'User_9358', 'User_9360', 'User_9363', 'User_9366', 'User_9369', 'User_9371', 'User_9373', 'User_9376', 'User_9377', 'User_9381', 'User_9382', 'User_9383', 'User_9384', 'User_9388', 'User_9389', 'User_9393', 'User_9394', 'User_9395', 'User_9396', 'User_9397', 'User_9399', 'User_9400', 'User_9402', 'User_9404', 'User_9407', 'User_9408', 'User_9412', 'User_9414', 'User_9416', 'User_9417', 'User_9418', 'User_9419', 'User_9420', 'User_9422', 'User_9425', 'User_9427', 'User_9429', 'User_9430', 'User_9431', 'User_9433', 'User_9435', 'User_9439', 'User_9440', 'User_9441', 'User_9443', 'User_9444', 'User_9445', 'User_9447', 'User_9448', 'User_9451', 'User_9456', 'User_9458', 'User_9459', 'User_9460', 'User_9462', 'User_9463', 'User_9464', 'User_9466', 'User_9467', 'User_9469', 'User_9470', 'User_9473', 'User_9476', 'User_9477', 'User_9478', 'User_9479', 'User_9480', 'User_9481', 'User_9483', 'User_9486', 'User_9490', 'User_9491', 'User_9492', 'User_9495', 'User_9496', 'User_9497', 'User_9502', 'User_9504', 'User_9506', 'User_9508', 'User_9515', 'User_9519', 'User_9521', 'User_9523', 'User_9526', 'User_9529', 'User_9531', 'User_9534', 'User_9536', 'User_9537', 'User_9539', 'User_9540', 'User_9541', 'User_9543', 'User_9544', 'User_9545', 'User_9548', 'User_9549', 'User_9550', 'User_9552', 'User_9553', 'User_9554', 'User_9555', 'User_9559', 'User_9561', 'User_9563', 'User_9565', 'User_9568', 'User_9571', 'User_9573', 'User_9574', 'User_9575', 'User_9576', 'User_9577', 'User_9582', 'User_9583', 'User_9584', 'User_9587', 'User_9592', 'User_9593', 'User_9594', 'User_9595', 'User_9598', 'User_9599', 'User_9600', 'User_9603', 'User_9607', 'User_9608', 'User_9612', 'User_9614', 'User_9615', 'User_9616', 'User_9617', 'User_9618', 'User_9620', 'User_9623', 'User_9624', 'User_9625', 'User_9626', 'User_9627', 'User_9628', 'User_9629', 'User_9633', 'User_9634', 'User_9635', 'User_9640', 'User_9644', 'User_9645', 'User_9646', 'User_9648', 'User_9650', 'User_9651', 'User_9653', 'User_9655', 'User_9656', 'User_9658', 'User_9661', 'User_9662', 'User_9663', 'User_9666', 'User_9669', 'User_9672', 'User_9673', 'User_9675', 'User_9677', 'User_9681', 'User_9683', 'User_9684', 'User_9685', 'User_9686', 'User_9687', 'User_9688', 'User_9689', 'User_9691', 'User_9693', 'User_9695', 'User_9697', 'User_9698', 'User_9699', 'User_9701', 'User_9702', 'User_9705', 'User_9706', 'User_9708', 'User_9709', 'User_9710', 'User_9712', 'User_9717', 'User_9718', 'User_9719', 'User_9721', 'User_9724', 'User_9726', 'User_9728', 'User_9729', 'User_9730', 'User_9732', 'User_9733', 'User_9737', 'User_9739', 'User_9740', 'User_9741', 'User_9744', 'User_9745', 'User_9746', 'User_9747', 'User_9748', 'User_9751', 'User_9752', 'User_9755', 'User_9757', 'User_9762', 'User_9763', 'User_9765', 'User_9766', 'User_9770', 'User_9773', 'User_9774', 'User_9775', 'User_9778', 'User_9779', 'User_9780', 'User_9784', 'User_9788', 'User_9791', 'User_9793', 'User_9794', 'User_9796', 'User_9803', 'User_9804', 'User_9805', 'User_9806', 'User_9808', 'User_9812', 'User_9813', 'User_9814', 'User_9815', 'User_9816', 'User_9817', 'User_9818', 'User_9820', 'User_9822', 'User_9825', 'User_9827', 'User_9828', 'User_9832', 'User_9833', 'User_9837', 'User_9838', 'User_9839', 'User_9840', 'User_9841', 'User_9843', 'User_9844', 'User_9849', 'User_9850', 'User_9851', 'User_9852', 'User_9854', 'User_9855', 'User_9856', 'User_9859', 'User_9860', 'User_9862', 'User_9864', 'User_9865', 'User_9867', 'User_9868', 'User_9875', 'User_9876', 'User_9877', 'User_9879', 'User_9881', 'User_9883', 'User_9884', 'User_9889', 'User_9893', 'User_9894', 'User_9899', 'User_9900', 'User_9901', 'User_9903', 'User_9904', 'User_9905', 'User_9906', 'User_9908', 'User_9909', 'User_9910', 'User_9911', 'User_9915', 'User_9916', 'User_9918', 'User_9922', 'User_9923', 'User_9925', 'User_9926', 'User_9927', 'User_9928', 'User_9929', 'User_9933', 'User_9935', 'User_9936', 'User_9938', 'User_9939', 'User_9940', 'User_9943', 'User_9946', 'User_9947', 'User_9948', 'User_9949', 'User_9950', 'User_9955', 'User_9956', 'User_9957', 'User_9958', 'User_9960', 'User_9962', 'User_9963', 'User_9964', 'User_9965', 'User_9967', 'User_9969', 'User_9971', 'User_9972', 'User_9973', 'User_9974', 'User_9975', 'User_9977', 'User_9980', 'User_9982', 'User_9983', 'User_9984', 'User_9985', 'User_9990', 'User_9992', 'User_9997', 'User_9998', 'User_9999']\n"
     ]
    }
   ],
   "source": [
    "def get_connected_users(user_id):\n",
    "    query = \"\"\"\n",
    "    MATCH (u:User {id: $user_id})\n",
    "    WITH u.componentId AS compId\n",
    "    MATCH (other:User)\n",
    "    WHERE other.componentId = compId\n",
    "    RETURN other.id AS ConnectedUser\n",
    "    \"\"\"\n",
    "    with get_session() as session:\n",
    "        result = session.run(query, parameters={\"user_id\": user_id})\n",
    "        return [record[\"ConnectedUser\"] for record in result]\n",
    "\n",
    "fraud_ring = get_connected_users(\"User_23\")\n",
    "print(fraud_ring)\n"
   ]
  },
  {
   "cell_type": "code",
   "execution_count": 21,
   "id": "8850fc71",
   "metadata": {},
   "outputs": [
    {
     "name": "stderr",
     "output_type": "stream",
     "text": [
      "Received notification from DBMS server: {severity: WARNING} {code: Neo.ClientNotification.Statement.UnknownRelationshipTypeWarning} {category: UNRECOGNIZED} {title: The provided relationship type is not in the database.} {description: One of the relationship types in your query is not available in the database, make sure you didn't misspell it or that the label is available when you run this statement in your application (the missing relationship type is: CONNECTED_TO)} {position: line: 2, column: 44, offset: 44} for query: '\\n    MATCH path = (u:User {id: $user_id})-[:CONNECTED_TO*1..]->(uid:UID1)<-[:CONNECTED_TO*1..]-(other:User)\\n    RETURN DISTINCT other.id AS ConnectedUser\\n    '\n",
      "Received notification from DBMS server: {severity: WARNING} {code: Neo.ClientNotification.Statement.UnknownRelationshipTypeWarning} {category: UNRECOGNIZED} {title: The provided relationship type is not in the database.} {description: One of the relationship types in your query is not available in the database, make sure you didn't misspell it or that the label is available when you run this statement in your application (the missing relationship type is: CONNECTED_TO)} {position: line: 2, column: 77, offset: 77} for query: '\\n    MATCH path = (u:User {id: $user_id})-[:CONNECTED_TO*1..]->(uid:UID1)<-[:CONNECTED_TO*1..]-(other:User)\\n    RETURN DISTINCT other.id AS ConnectedUser\\n    '\n"
     ]
    },
    {
     "name": "stdout",
     "output_type": "stream",
     "text": [
      "[]\n"
     ]
    }
   ],
   "source": [
    "def get_connected_users_via_uid1_recursive(user_id):\n",
    "    query = \"\"\"\n",
    "    MATCH path = (u:User {id: $user_id})-[:CONNECTED_TO*1..]->(uid:UID1)<-[:CONNECTED_TO*1..]-(other:User)\n",
    "    RETURN DISTINCT other.id AS ConnectedUser\n",
    "    \"\"\"\n",
    "    with get_session() as session:\n",
    "        result = session.run(query, parameters={\"user_id\": user_id})\n",
    "        return [record[\"ConnectedUser\"] for record in result]\n",
    "\n",
    "# Example usage\n",
    "connected_users = get_connected_users_via_uid1_recursive(\"User_23\")\n",
    "print(connected_users)\n"
   ]
  },
  {
   "cell_type": "code",
   "execution_count": null,
   "id": "563e22f6",
   "metadata": {},
   "outputs": [],
   "source": []
  }
 ],
 "metadata": {
  "kernelspec": {
   "display_name": "projects",
   "language": "python",
   "name": "python3"
  },
  "language_info": {
   "codemirror_mode": {
    "name": "ipython",
    "version": 3
   },
   "file_extension": ".py",
   "mimetype": "text/x-python",
   "name": "python",
   "nbconvert_exporter": "python",
   "pygments_lexer": "ipython3",
   "version": "3.12.5"
  }
 },
 "nbformat": 4,
 "nbformat_minor": 5
}
